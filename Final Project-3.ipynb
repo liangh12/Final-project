{
 "cells": [
  {
   "cell_type": "markdown",
   "metadata": {},
   "source": [
    "# Final Project - US Income Simulation"
   ]
  },
  {
   "cell_type": "markdown",
   "metadata": {},
   "source": [
    "##### Sean Evers, Jacob Blackmore, Jack Kelleher, Haotian Liang"
   ]
  },
  {
   "cell_type": "code",
   "execution_count": 1,
   "metadata": {},
   "outputs": [],
   "source": [
    "import pandas as pd\n",
    "import numpy as np\n",
    "import matplotlib.pyplot as plt\n",
    "import seaborn as sns"
   ]
  },
  {
   "cell_type": "markdown",
   "metadata": {},
   "source": [
    "### Part 1 - Loading in the Datasets"
   ]
  },
  {
   "cell_type": "markdown",
   "metadata": {},
   "source": [
    "### Federal Income Tax Rate - Lowest Bracket\n",
    "https://fred.stlouisfed.org/series/IITTRLB"
   ]
  },
  {
   "cell_type": "code",
   "execution_count": null,
   "metadata": {},
   "outputs": [],
   "source": [
    "low_taxes = pd.read_csv(\"IITTRLB.csv\")\n",
    "low_taxes.index = np.arange(1,47)\n",
    "low_taxes.columns = ['Year', 'Low Tax Bracket']\n",
    "low_taxes.head()"
   ]
  },
  {
   "cell_type": "markdown",
   "metadata": {},
   "source": [
    "### Federal Income Tax Rate - Highest Bracket\n",
    "https://fred.stlouisfed.org/series/IITTRHB"
   ]
  },
  {
   "cell_type": "code",
   "execution_count": null,
   "metadata": {},
   "outputs": [],
   "source": [
    "high_taxes = pd.read_csv(\"IITTRHB.csv\")\n",
    "high_taxes.index = np.arange(1,47)\n",
    "high_taxes.columns = ['Year', 'High Tax Bracket']\n",
    "high_taxes.head()"
   ]
  },
  {
   "cell_type": "markdown",
   "metadata": {},
   "source": [
    "### Unemployment Rates\n",
    "https://fred.stlouisfed.org/series/UNRATE"
   ]
  },
  {
   "cell_type": "code",
   "execution_count": null,
   "metadata": {},
   "outputs": [],
   "source": [
    "unemployment = pd.read_csv(\"UNRATE-2.csv\")\n",
    "unemployment.index = np.arange(1,47)\n",
    "unemployment.columns = ['Year', 'Unemployment']\n",
    "unemployment.head()"
   ]
  },
  {
   "cell_type": "markdown",
   "metadata": {},
   "source": [
    "### GDP, In Billions of Dollars\n",
    "https://fred.stlouisfed.org/series/GDP"
   ]
  },
  {
   "cell_type": "code",
   "execution_count": null,
   "metadata": {},
   "outputs": [],
   "source": [
    "gdp = pd.read_csv(\"GDP-3.csv\")\n",
    "gdp = gdp.iloc[27:,:]\n",
    "gdp.index = np.arange(1,47)\n",
    "gdp.head()"
   ]
  },
  {
   "cell_type": "markdown",
   "metadata": {},
   "source": [
    "### 10 Year Treasury Rates\n",
    "https://fred.stlouisfed.org/series/DGS10"
   ]
  },
  {
   "cell_type": "code",
   "execution_count": null,
   "metadata": {},
   "outputs": [],
   "source": [
    "treasury = pd.read_csv(\"DGS10.csv\")\n",
    "treasury.index = np.arange(1,47)\n",
    "treasury.head()"
   ]
  },
  {
   "cell_type": "markdown",
   "metadata": {},
   "source": [
    "### CPI\n",
    "https://fred.stlouisfed.org/series/CPIAUCSL"
   ]
  },
  {
   "cell_type": "code",
   "execution_count": null,
   "metadata": {},
   "outputs": [],
   "source": [
    "cpi = pd.read_csv(\"CPIAUCSL.csv\")\n",
    "cpi = cpi.iloc[27:,:]\n",
    "cpi.index = np.arange(1,47)\n",
    "cpi.head()"
   ]
  },
  {
   "cell_type": "markdown",
   "metadata": {},
   "source": [
    "### S&P 500 Returns\n",
    "https://www.macrotrends.net/2526/sp-500-historical-annual-returns"
   ]
  },
  {
   "cell_type": "code",
   "execution_count": null,
   "metadata": {},
   "outputs": [],
   "source": [
    "sp500 = pd.read_csv(\"sp-500-historical-annual-returns.csv\")\n",
    "sp500 = sp500.iloc[45:-3,:]\n",
    "sp500.index = np.arange(1,47)\n",
    "sp500.head()"
   ]
  },
  {
   "cell_type": "markdown",
   "metadata": {},
   "source": [
    "### Median Weekly Real Wages\n",
    "https://fred.stlouisfed.org/series/LES1252881600Q"
   ]
  },
  {
   "cell_type": "code",
   "execution_count": null,
   "metadata": {},
   "outputs": [],
   "source": [
    "wages = pd.read_csv(\"MEPAINUSA672N.csv\")\n",
    "wages = wages.iloc[:46,:]\n",
    "wages.index = np.arange(1,47)\n",
    "wages.head()"
   ]
  },
  {
   "cell_type": "markdown",
   "metadata": {},
   "source": [
    "### Median Sale Price of Houses\n",
    "https://fred.stlouisfed.org/series/MSPUS"
   ]
  },
  {
   "cell_type": "code",
   "execution_count": null,
   "metadata": {},
   "outputs": [],
   "source": [
    "houses = pd.read_csv(\"MSPUS-2.csv\")\n",
    "houses = houses.iloc[10:,:]\n",
    "houses.index = np.arange(1,47)\n",
    "houses.head()"
   ]
  },
  {
   "cell_type": "markdown",
   "metadata": {},
   "source": [
    "### Industrial Production\n",
    "https://fred.stlouisfed.org/series/INDPRO"
   ]
  },
  {
   "cell_type": "code",
   "execution_count": null,
   "metadata": {},
   "outputs": [],
   "source": [
    "indprod = pd.read_csv(\"INDPRO-2.csv\")\n",
    "indprod = indprod.iloc[:46,:]\n",
    "indprod.index = np.arange(1,47)\n",
    "indprod.head()"
   ]
  },
  {
   "cell_type": "markdown",
   "metadata": {},
   "source": [
    "### Personal Consumption Expenditures\n",
    "https://fred.stlouisfed.org/series/PCE"
   ]
  },
  {
   "cell_type": "code",
   "execution_count": null,
   "metadata": {},
   "outputs": [],
   "source": [
    "cpe = pd.read_csv(\"PCE-2.csv\")\n",
    "cpe = cpe.iloc[:46,:]\n",
    "cpe.index = np.arange(1,47)\n",
    "cpe.head()"
   ]
  },
  {
   "cell_type": "markdown",
   "metadata": {},
   "source": [
    "### Personal Income\n",
    "https://fred.stlouisfed.org/series/MEPAINUSA672N"
   ]
  },
  {
   "cell_type": "code",
   "execution_count": null,
   "metadata": {},
   "outputs": [],
   "source": [
    "p_income = pd.read_csv(\"MEPAINUSA672N.csv\")\n",
    "p_income.index = np.arange(1,47)\n",
    "p_income.head()"
   ]
  },
  {
   "cell_type": "markdown",
   "metadata": {},
   "source": [
    "### Putting Them All Together"
   ]
  },
  {
   "cell_type": "code",
   "execution_count": null,
   "metadata": {},
   "outputs": [],
   "source": [
    "data = p_income"
   ]
  },
  {
   "cell_type": "code",
   "execution_count": null,
   "metadata": {},
   "outputs": [],
   "source": [
    "data.columns = [\"Date\", \"Personal Income\"]\n",
    "data[\"High Tax Bracket\"] = high_taxes.iloc[:,1]\n",
    "data[\"Low Tax Bracket\"] = low_taxes.iloc[:,1]\n",
    "data[\"Unemployment Rate\"] = unemployment.iloc[:,1]\n",
    "data[\"GDP\"] = gdp.iloc[:,1]\n",
    "data[\"10 Yr Treasury Yield\"] = treasury.iloc[:,1]\n",
    "data[\"CPI\"] = cpi.iloc[:,1]\n",
    "data[\"SP500\"] = sp500.iloc[:,1]\n",
    "data[\"Wages\"] = wages.iloc[:,1]\n",
    "data[\"Houses\"] = houses.iloc[:,1]\n",
    "data[\"Industrial Production\"] = indprod.iloc[:,1]\n",
    "data[\"Consumer Expenditures\"] = cpe.iloc[:,1]\n",
    "data[\"Date\"] = unemployment.iloc[:,0]\n",
    "data.head()"
   ]
  },
  {
   "cell_type": "markdown",
   "metadata": {},
   "source": [
    "### Part 2 - Multiple Linear/Log Regression"
   ]
  },
  {
   "cell_type": "code",
   "execution_count": null,
   "metadata": {},
   "outputs": [],
   "source": [
    "import statsmodels.api as sm\n",
    "from scipy.stats import pearsonr"
   ]
  },
  {
   "cell_type": "code",
   "execution_count": null,
   "metadata": {},
   "outputs": [],
   "source": [
    "# defining our dependent variable\n",
    "y = data[\"Personal Income\"]\n",
    "# defining our independent variables and dropping columns date and personal income\n",
    "x = data.drop(columns = [\"Date\", \"Personal Income\"])\n",
    "\n",
    "# adding constant for our intercept\n",
    "x_with_cnst = sm.add_constant(x)\n",
    "\n",
    "#running the model\n",
    "model = sm.OLS(y, x_with_cnst)\n",
    "results = model.fit()\n",
    "results.summary()"
   ]
  },
  {
   "cell_type": "markdown",
   "metadata": {},
   "source": [
    "What we see here is that each variable is insignificant except for real wages, but that our adjusted squared value is 1.00. Let's try our model again without real wages:"
   ]
  },
  {
   "cell_type": "code",
   "execution_count": null,
   "metadata": {},
   "outputs": [],
   "source": [
    "# running the model again but dropping wages because it is pretty much the same as our dependent variable\n",
    "y = data[\"Personal Income\"]\n",
    "x = data.drop(columns = [\"Date\", \"Personal Income\", \"Wages\"])\n",
    "x_with_cnst = sm.add_constant(x)\n",
    "\n",
    "model = sm.OLS(y, x_with_cnst)\n",
    "results = model.fit()\n",
    "results.summary()"
   ]
  },
  {
   "cell_type": "markdown",
   "metadata": {},
   "source": [
    "Our model is looking better now. Just how much do real wages predict changes in median income? Perhaps the two variables are pulled from the same data."
   ]
  },
  {
   "cell_type": "code",
   "execution_count": null,
   "metadata": {},
   "outputs": [],
   "source": [
    "# running a linear regression of personal income ~ wages.\n",
    "# if the two datasets are the same, we should expect an R squred value of 1, and correlation of 1\n",
    "y = data[\"Personal Income\"]\n",
    "x = data[\"Wages\"]\n",
    "print(pearsonr(x,y))\n",
    "x_with_cnst = sm.add_constant(x)\n",
    "\n",
    "model = sm.OLS(y, x_with_cnst)\n",
    "results = model.fit()\n",
    "results.summary()"
   ]
  },
  {
   "cell_type": "markdown",
   "metadata": {},
   "source": [
    "Because the correlation and R-squared value of our two csv files: Real Wages and Median Personal Income are both 1, this means that our files are pretty much the exact same. So in our other words, our project has just become: How to predict real wage growth. Going forward, we must not use wages in our regression."
   ]
  },
  {
   "cell_type": "markdown",
   "metadata": {},
   "source": [
    "### Part 3 - Determining The Best Model"
   ]
  },
  {
   "cell_type": "markdown",
   "metadata": {},
   "source": [
    "#### Now that we have all of our relevant variables, lets try to come up with the best model."
   ]
  },
  {
   "cell_type": "code",
   "execution_count": null,
   "metadata": {},
   "outputs": [],
   "source": [
    "def forward_regression(X, y,\n",
    "                       threshold_in,\n",
    "                       verbose=False):\n",
    "    '''The forward regression function determines the most statistically significant variables in a regression.\n",
    "    X is a dataframe of our independent variables, including a column of constants (1). y is the response variable as\n",
    "    a dataframe. threshold_in is the p_value that we want our variables to be below in order to be included in our model.\n",
    "    Set verbose = True in order to view the step by step of variables added to the model and their respective p-value.\n",
    "    \n",
    "    Forward regression starts off by doing a regression against each individual variable. Then, we keep only the variable\n",
    "    the lowest p-value and discard the rest. Then, we run regressions again with our previous variable and the rest of the\n",
    "    variables, and keep the next variable with the lowest p-value and discard the rest. We keep adding variables until there\n",
    "    are no variables left with a p-value that is below our threshold_in value.'''\n",
    "    \n",
    "    # initilaizing a list that will contain the variables in our model\n",
    "    initial_list = []\n",
    "    included = list(initial_list)\n",
    "    \n",
    "    # we are going to do a new linear regression until we break out of the loop\n",
    "    while True:\n",
    "        \n",
    "        # setting changed = False. If do not add any more variables to our model, then we break out of the loop because of this\n",
    "        changed=False\n",
    "        \n",
    "        # the variables that are NOT already in our model\n",
    "        excluded = list(set(X.columns)-set(included))\n",
    "        \n",
    "        # initializing new_pval list with length equal to the variables not included in our model\n",
    "        new_pval = pd.Series(index=excluded)\n",
    "        \n",
    "        # for each variable not in our model\n",
    "        for column in excluded:\n",
    "            \n",
    "            # running a regression of our included variables + each variable not in our model\n",
    "            model = sm.OLS(y, sm.add_constant(pd.DataFrame(X[included+[column]]))).fit()\n",
    "            # updating our new_pval list. This will only contain the p_values of our excluded variables not already in the model\n",
    "            new_pval[column] = model.pvalues[column]\n",
    "            \n",
    "        # find the lowest pval from our excluded list\n",
    "        best_pval = new_pval.min()\n",
    "        \n",
    "        # if that lowest pval is less than our threshold:\n",
    "        if best_pval < threshold_in:\n",
    "            best_feature = new_pval.idxmin()\n",
    "            # add it to our included list\n",
    "            included.append(best_feature)\n",
    "            \n",
    "            # set changed = True so that we continue the loop\n",
    "            changed=True\n",
    "            \n",
    "            # if verbose is set to true, outputs which variables are added and the p_value\n",
    "            if verbose:\n",
    "                print('Add  {:30} with p-value {:.6}'.format(best_feature, best_pval))\n",
    "\n",
    "        # if we go through this process and we do not find any items that \n",
    "        # have a p_value less than our threshold, changed will be false, and we break out of the loop\n",
    "        if not changed:\n",
    "            break\n",
    "\n",
    "    return included"
   ]
  },
  {
   "cell_type": "code",
   "execution_count": null,
   "metadata": {},
   "outputs": [],
   "source": [
    "def backward_regression(X, y,\n",
    "                           threshold_out,\n",
    "                           verbose=False):\n",
    "    '''The backward regression function determines the most statistically significant variables in a regression.\n",
    "    X is a dataframe of our independent variables, including a column of constants (1). y is the response variable as\n",
    "    a dataframe. (1 - threshold_out) is the p_value that we want our variables to be below in order to be included in our model.\n",
    "    Set verbose = True in order to view the step by step of variables added to the model and their respective p-value.\n",
    "    \n",
    "    Backward regression starts off with all variables in our model. After doing a regression, the highest p-value is\n",
    "    calculated. If the variable with the highest p-value has a p-value higher than our threshold_out, then we remove it from\n",
    "    from the model. Do this until all variables have p-values below the threshold_out.'''\n",
    "    \n",
    "    # the variables included in our model\n",
    "    included=list(X.columns)\n",
    "    \n",
    "    # run through a loop until we break out\n",
    "    while True:\n",
    "        \n",
    "        # setting changed = False. If do not add any more variables to our model, then we break out of the loop because of this\n",
    "        changed=False\n",
    "        # running a regression of our variables\n",
    "        model = sm.OLS(y, sm.add_constant(pd.DataFrame(X[included]))).fit()\n",
    "        \n",
    "        # use all coefs except intercept\n",
    "        pvalues = model.pvalues.iloc[1:]\n",
    "        worst_pval = pvalues.max() # null if pvalues is empty\n",
    "        \n",
    "        # if the worst_pval is higher than our threshold:\n",
    "        if worst_pval > threshold_out:\n",
    "            \n",
    "            # set changed = true to continue with the loop\n",
    "            changed=True\n",
    "            \n",
    "            # remove the variable from our model\n",
    "            worst_feature = pvalues.idxmax()\n",
    "            included.remove(worst_feature)\n",
    "            \n",
    "            #print verbose if verbose = true\n",
    "            if verbose:\n",
    "                print('Drop {:30} with p-value {:.6}'.format(worst_feature, worst_pval))\n",
    "                \n",
    "        # break out of the loop if no variables are excluded\n",
    "        if not changed:\n",
    "            break\n",
    "    return included"
   ]
  },
  {
   "cell_type": "markdown",
   "metadata": {},
   "source": [
    "Source: https://datascience.stackexchange.com/questions/937/does-scikit-learn-have-forward-selection-stepwise-regression-algorithm"
   ]
  },
  {
   "cell_type": "code",
   "execution_count": null,
   "metadata": {},
   "outputs": [],
   "source": [
    "# lets calculate our variables to pass into the functions\n",
    "y = data[\"Personal Income\"]\n",
    "x = data.drop(columns = [\"Date\", \"Personal Income\", \"Wages\"])\n",
    "x_with_cnst = sm.add_constant(x)"
   ]
  },
  {
   "cell_type": "code",
   "execution_count": null,
   "metadata": {},
   "outputs": [],
   "source": [
    "forward_regression(x_with_cnst, y, threshold_in = 0.05)"
   ]
  },
  {
   "cell_type": "code",
   "execution_count": null,
   "metadata": {},
   "outputs": [],
   "source": [
    "backward_regression(x_with_cnst, y, threshold_out = 0.05)"
   ]
  },
  {
   "cell_type": "markdown",
   "metadata": {},
   "source": [
    "These two models should include variables that are all statistically significant."
   ]
  },
  {
   "cell_type": "markdown",
   "metadata": {},
   "source": [
    "### Forward Regression Model"
   ]
  },
  {
   "cell_type": "code",
   "execution_count": null,
   "metadata": {},
   "outputs": [],
   "source": [
    "y = data[\"Personal Income\"]\n",
    "\n",
    "# we are going to drop all of the variables that are not in our forward model\n",
    "x = data.drop(columns = [\"Date\", \"High Tax Bracket\", \"Low Tax Bracket\", \"Personal Income\", \"Wages\", \"CPI\", \"GDP\", \"Houses\", \"Consumer Expenditures\"])\n",
    "x_with_cnst = sm.add_constant(x)\n",
    "\n",
    "model = sm.OLS(y, x_with_cnst)\n",
    "results = model.fit()\n",
    "results.summary()"
   ]
  },
  {
   "cell_type": "markdown",
   "metadata": {},
   "source": [
    "With the unemployment rate, 10 Yr Treasury Yield, and Industrial Production Index, and the S&P500, we can explain about 96% of the variation in real wages/personal income."
   ]
  },
  {
   "cell_type": "markdown",
   "metadata": {},
   "source": [
    "forward_model = 23310 - 412.4072(unemployment) - 179.1327(10 Yr Treasury) - 13.2388(S&P500) + 119.0190(Industrial Production)"
   ]
  },
  {
   "cell_type": "code",
   "execution_count": null,
   "metadata": {},
   "outputs": [],
   "source": [
    "# lets plot our model against actual income\n",
    "q = gdp.iloc[:,0]\n",
    "unemployment_rate = data[\"Unemployment Rate\"]\n",
    "yields = data[\"10 Yr Treasury Yield\"]\n",
    "sp_500 = data[\"SP500\"]\n",
    "industrial_production = data[\"Industrial Production\"]\n",
    "\n",
    "# using the coefficients in our model to calculate median incomes\n",
    "t = 23310 - 412.4072*(unemployment_rate) - 179.1327*(yields) - 13.2388*(sp_500) + 119.0190*(industrial_production)"
   ]
  },
  {
   "cell_type": "code",
   "execution_count": null,
   "metadata": {},
   "outputs": [],
   "source": [
    "plt.plot(q,t, label = \"Model Implied Personal Income\")\n",
    "plt.plot(q, data[\"Personal Income\"], label = \"Actual Personal Income\")\n",
    "plt.xticks(np.arange(0, len(x)+1, 10))\n",
    "plt.title(\"Forwards Step-Wise Model\")\n",
    "plt.xlabel(\"Date\")\n",
    "plt.ylabel(\"Median Personal Income\")\n",
    "plt.legend()"
   ]
  },
  {
   "cell_type": "markdown",
   "metadata": {},
   "source": [
    "### Backwards Regression Model"
   ]
  },
  {
   "cell_type": "code",
   "execution_count": null,
   "metadata": {},
   "outputs": [],
   "source": [
    "y = data[\"Personal Income\"]\n",
    "# dropping all variabels not included in our backward regression model\n",
    "x = data.drop(columns = [\"Date\", \"Low Tax Bracket\", \"Personal Income\", \"Wages\", \"SP500\", \"Consumer Expenditures\", \"10 Yr Treasury Yield\"])\n",
    "x_with_cnst = sm.add_constant(x)\n",
    "\n",
    "model = sm.OLS(y, x_with_cnst)\n",
    "results = model.fit()\n",
    "results.summary()"
   ]
  },
  {
   "cell_type": "markdown",
   "metadata": {},
   "source": [
    "### Plotting Our Model"
   ]
  },
  {
   "cell_type": "markdown",
   "metadata": {},
   "source": [
    "backwards_model = 29270 -86.3976(high_tax_bracket) -342.9998(unemployment_rate) + 1.1485(gdp) -75.5190(cpi) -0.0375(houses) + 159.7341(industrial_production)"
   ]
  },
  {
   "cell_type": "code",
   "execution_count": null,
   "metadata": {},
   "outputs": [],
   "source": [
    "x = gdp.iloc[:,0]\n",
    "high_tax_bracket = data[\"High Tax Bracket\"]\n",
    "unemployment_rate = data[\"Unemployment Rate\"]\n",
    "gdp = data[\"GDP\"]\n",
    "cpi = data[\"CPI\"]\n",
    "houses = data[\"Houses\"]\n",
    "industrial_production = data[\"Industrial Production\"]\n",
    "# using our model equation to calculate median income\n",
    "y = 29270 -86.3976*(high_tax_bracket) -342.9998*(unemployment_rate) + 1.1485*(gdp) -75.5190*(cpi) -0.0375*(houses) + 159.7341*(industrial_production)"
   ]
  },
  {
   "cell_type": "code",
   "execution_count": null,
   "metadata": {},
   "outputs": [],
   "source": [
    "plt.plot(x,y, label = \"Model Implied Personal Income\")\n",
    "plt.plot(x, data[\"Personal Income\"], label = \"Actual Personal Income\")\n",
    "plt.xticks(np.arange(0, len(x)+1, 10))\n",
    "plt.title(\"Backwards Step-Wise Model\")\n",
    "plt.xlabel(\"Date\")\n",
    "plt.ylabel(\"Median Personal Income\")\n",
    "plt.legend()"
   ]
  }
 ],
 "metadata": {
  "kernelspec": {
   "display_name": "Python 3",
   "language": "python",
   "name": "python3"
  },
  "language_info": {
   "codemirror_mode": {
    "name": "ipython",
    "version": 3
   },
   "file_extension": ".py",
   "mimetype": "text/x-python",
   "name": "python",
   "nbconvert_exporter": "python",
   "pygments_lexer": "ipython3",
   "version": "3.7.3"
  }
 },
 "nbformat": 4,
 "nbformat_minor": 4
}
