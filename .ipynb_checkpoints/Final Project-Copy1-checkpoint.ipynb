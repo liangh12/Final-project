{
 "cells": [
  {
   "cell_type": "markdown",
   "metadata": {},
   "source": [
    "# Final Project - US Income Simulation"
   ]
  },
  {
   "cell_type": "markdown",
   "metadata": {},
   "source": [
    "##### Sean Evers, Jacob Blackmore, Jack Kelleher, Haotian Liang"
   ]
  },
  {
   "cell_type": "code",
   "execution_count": 1,
   "metadata": {},
   "outputs": [],
   "source": [
    "import pandas as pd\n",
    "import numpy as np\n",
    "import matplotlib.pyplot as plt\n",
    "import seaborn as sns"
   ]
  },
  {
   "cell_type": "markdown",
   "metadata": {},
   "source": [
    "### Part 1 - Loading in the Datasets"
   ]
  },
  {
   "cell_type": "markdown",
   "metadata": {},
   "source": [
    "### Federal Income Tax Rate - Lowest Bracket\n",
    "https://fred.stlouisfed.org/series/IITTRLB"
   ]
  },
  {
   "cell_type": "code",
   "execution_count": 5,
   "metadata": {},
   "outputs": [
    {
     "data": {
      "text/html": [
       "<div>\n",
       "<style scoped>\n",
       "    .dataframe tbody tr th:only-of-type {\n",
       "        vertical-align: middle;\n",
       "    }\n",
       "\n",
       "    .dataframe tbody tr th {\n",
       "        vertical-align: top;\n",
       "    }\n",
       "\n",
       "    .dataframe thead th {\n",
       "        text-align: right;\n",
       "    }\n",
       "</style>\n",
       "<table border=\"1\" class=\"dataframe\">\n",
       "  <thead>\n",
       "    <tr style=\"text-align: right;\">\n",
       "      <th></th>\n",
       "      <th>Year</th>\n",
       "      <th>Low Tax Bracket</th>\n",
       "    </tr>\n",
       "  </thead>\n",
       "  <tbody>\n",
       "    <tr>\n",
       "      <th>1</th>\n",
       "      <td>1974-01-01</td>\n",
       "      <td>14.0</td>\n",
       "    </tr>\n",
       "    <tr>\n",
       "      <th>2</th>\n",
       "      <td>1975-01-01</td>\n",
       "      <td>14.0</td>\n",
       "    </tr>\n",
       "    <tr>\n",
       "      <th>3</th>\n",
       "      <td>1976-01-01</td>\n",
       "      <td>14.0</td>\n",
       "    </tr>\n",
       "    <tr>\n",
       "      <th>4</th>\n",
       "      <td>1977-01-01</td>\n",
       "      <td>14.0</td>\n",
       "    </tr>\n",
       "    <tr>\n",
       "      <th>5</th>\n",
       "      <td>1978-01-01</td>\n",
       "      <td>14.0</td>\n",
       "    </tr>\n",
       "  </tbody>\n",
       "</table>\n",
       "</div>"
      ],
      "text/plain": [
       "         Year  Low Tax Bracket\n",
       "1  1974-01-01             14.0\n",
       "2  1975-01-01             14.0\n",
       "3  1976-01-01             14.0\n",
       "4  1977-01-01             14.0\n",
       "5  1978-01-01             14.0"
      ]
     },
     "execution_count": 5,
     "metadata": {},
     "output_type": "execute_result"
    }
   ],
   "source": [
    "low_taxes = pd.read_csv(\"IITTRLB-Copy1.csv\")\n",
    "low_taxes.index = np.arange(1,47)\n",
    "low_taxes.columns = ['Year', 'Low Tax Bracket']\n",
    "low_taxes.head()"
   ]
  },
  {
   "cell_type": "markdown",
   "metadata": {},
   "source": [
    "### Federal Income Tax Rate - Highest Bracket\n",
    "https://fred.stlouisfed.org/series/IITTRHB"
   ]
  },
  {
   "cell_type": "code",
   "execution_count": 6,
   "metadata": {},
   "outputs": [
    {
     "data": {
      "text/html": [
       "<div>\n",
       "<style scoped>\n",
       "    .dataframe tbody tr th:only-of-type {\n",
       "        vertical-align: middle;\n",
       "    }\n",
       "\n",
       "    .dataframe tbody tr th {\n",
       "        vertical-align: top;\n",
       "    }\n",
       "\n",
       "    .dataframe thead th {\n",
       "        text-align: right;\n",
       "    }\n",
       "</style>\n",
       "<table border=\"1\" class=\"dataframe\">\n",
       "  <thead>\n",
       "    <tr style=\"text-align: right;\">\n",
       "      <th></th>\n",
       "      <th>Year</th>\n",
       "      <th>High Tax Bracket</th>\n",
       "    </tr>\n",
       "  </thead>\n",
       "  <tbody>\n",
       "    <tr>\n",
       "      <th>1</th>\n",
       "      <td>1974-01-01</td>\n",
       "      <td>70.0</td>\n",
       "    </tr>\n",
       "    <tr>\n",
       "      <th>2</th>\n",
       "      <td>1975-01-01</td>\n",
       "      <td>70.0</td>\n",
       "    </tr>\n",
       "    <tr>\n",
       "      <th>3</th>\n",
       "      <td>1976-01-01</td>\n",
       "      <td>70.0</td>\n",
       "    </tr>\n",
       "    <tr>\n",
       "      <th>4</th>\n",
       "      <td>1977-01-01</td>\n",
       "      <td>70.0</td>\n",
       "    </tr>\n",
       "    <tr>\n",
       "      <th>5</th>\n",
       "      <td>1978-01-01</td>\n",
       "      <td>70.0</td>\n",
       "    </tr>\n",
       "  </tbody>\n",
       "</table>\n",
       "</div>"
      ],
      "text/plain": [
       "         Year  High Tax Bracket\n",
       "1  1974-01-01              70.0\n",
       "2  1975-01-01              70.0\n",
       "3  1976-01-01              70.0\n",
       "4  1977-01-01              70.0\n",
       "5  1978-01-01              70.0"
      ]
     },
     "execution_count": 6,
     "metadata": {},
     "output_type": "execute_result"
    }
   ],
   "source": [
    "high_taxes = pd.read_csv(\"IITTRHB-Copy1.csv\")\n",
    "high_taxes.index = np.arange(1,47)\n",
    "high_taxes.columns = ['Year', 'High Tax Bracket']\n",
    "high_taxes.head()"
   ]
  },
  {
   "cell_type": "markdown",
   "metadata": {},
   "source": [
    "### Unemployment Rates\n",
    "https://fred.stlouisfed.org/series/UNRATE"
   ]
  },
  {
   "cell_type": "code",
   "execution_count": 7,
   "metadata": {},
   "outputs": [
    {
     "data": {
      "text/html": [
       "<div>\n",
       "<style scoped>\n",
       "    .dataframe tbody tr th:only-of-type {\n",
       "        vertical-align: middle;\n",
       "    }\n",
       "\n",
       "    .dataframe tbody tr th {\n",
       "        vertical-align: top;\n",
       "    }\n",
       "\n",
       "    .dataframe thead th {\n",
       "        text-align: right;\n",
       "    }\n",
       "</style>\n",
       "<table border=\"1\" class=\"dataframe\">\n",
       "  <thead>\n",
       "    <tr style=\"text-align: right;\">\n",
       "      <th></th>\n",
       "      <th>Year</th>\n",
       "      <th>Unemployment</th>\n",
       "    </tr>\n",
       "  </thead>\n",
       "  <tbody>\n",
       "    <tr>\n",
       "      <th>1</th>\n",
       "      <td>1974-01-01</td>\n",
       "      <td>5.641667</td>\n",
       "    </tr>\n",
       "    <tr>\n",
       "      <th>2</th>\n",
       "      <td>1975-01-01</td>\n",
       "      <td>8.475000</td>\n",
       "    </tr>\n",
       "    <tr>\n",
       "      <th>3</th>\n",
       "      <td>1976-01-01</td>\n",
       "      <td>7.700000</td>\n",
       "    </tr>\n",
       "    <tr>\n",
       "      <th>4</th>\n",
       "      <td>1977-01-01</td>\n",
       "      <td>7.050000</td>\n",
       "    </tr>\n",
       "    <tr>\n",
       "      <th>5</th>\n",
       "      <td>1978-01-01</td>\n",
       "      <td>6.066667</td>\n",
       "    </tr>\n",
       "  </tbody>\n",
       "</table>\n",
       "</div>"
      ],
      "text/plain": [
       "         Year  Unemployment\n",
       "1  1974-01-01      5.641667\n",
       "2  1975-01-01      8.475000\n",
       "3  1976-01-01      7.700000\n",
       "4  1977-01-01      7.050000\n",
       "5  1978-01-01      6.066667"
      ]
     },
     "execution_count": 7,
     "metadata": {},
     "output_type": "execute_result"
    }
   ],
   "source": [
    "unemployment = pd.read_csv(\"UNRATE-2-Copy1.csv\")\n",
    "unemployment.index = np.arange(1,47)\n",
    "unemployment.columns = ['Year', 'Unemployment']\n",
    "unemployment.head()"
   ]
  },
  {
   "cell_type": "markdown",
   "metadata": {},
   "source": [
    "### GDP, In Billions of Dollars\n",
    "https://fred.stlouisfed.org/series/GDP"
   ]
  },
  {
   "cell_type": "code",
   "execution_count": 8,
   "metadata": {},
   "outputs": [
    {
     "data": {
      "text/html": [
       "<div>\n",
       "<style scoped>\n",
       "    .dataframe tbody tr th:only-of-type {\n",
       "        vertical-align: middle;\n",
       "    }\n",
       "\n",
       "    .dataframe tbody tr th {\n",
       "        vertical-align: top;\n",
       "    }\n",
       "\n",
       "    .dataframe thead th {\n",
       "        text-align: right;\n",
       "    }\n",
       "</style>\n",
       "<table border=\"1\" class=\"dataframe\">\n",
       "  <thead>\n",
       "    <tr style=\"text-align: right;\">\n",
       "      <th></th>\n",
       "      <th>DATE</th>\n",
       "      <th>GDP</th>\n",
       "    </tr>\n",
       "  </thead>\n",
       "  <tbody>\n",
       "    <tr>\n",
       "      <th>1</th>\n",
       "      <td>1974-01-01</td>\n",
       "      <td>1545.24250</td>\n",
       "    </tr>\n",
       "    <tr>\n",
       "      <th>2</th>\n",
       "      <td>1975-01-01</td>\n",
       "      <td>1684.90500</td>\n",
       "    </tr>\n",
       "    <tr>\n",
       "      <th>3</th>\n",
       "      <td>1976-01-01</td>\n",
       "      <td>1873.41250</td>\n",
       "    </tr>\n",
       "    <tr>\n",
       "      <th>4</th>\n",
       "      <td>1977-01-01</td>\n",
       "      <td>2081.82500</td>\n",
       "    </tr>\n",
       "    <tr>\n",
       "      <th>5</th>\n",
       "      <td>1978-01-01</td>\n",
       "      <td>2351.59875</td>\n",
       "    </tr>\n",
       "  </tbody>\n",
       "</table>\n",
       "</div>"
      ],
      "text/plain": [
       "         DATE         GDP\n",
       "1  1974-01-01  1545.24250\n",
       "2  1975-01-01  1684.90500\n",
       "3  1976-01-01  1873.41250\n",
       "4  1977-01-01  2081.82500\n",
       "5  1978-01-01  2351.59875"
      ]
     },
     "execution_count": 8,
     "metadata": {},
     "output_type": "execute_result"
    }
   ],
   "source": [
    "gdp = pd.read_csv(\"GDP-3-Copy1.csv\")\n",
    "gdp = gdp.iloc[27:,:]\n",
    "gdp.index = np.arange(1,47)\n",
    "gdp.head()"
   ]
  },
  {
   "cell_type": "markdown",
   "metadata": {},
   "source": [
    "### 10 Year Treasury Rates\n",
    "https://fred.stlouisfed.org/series/DGS10"
   ]
  },
  {
   "cell_type": "code",
   "execution_count": 9,
   "metadata": {},
   "outputs": [
    {
     "data": {
      "text/html": [
       "<div>\n",
       "<style scoped>\n",
       "    .dataframe tbody tr th:only-of-type {\n",
       "        vertical-align: middle;\n",
       "    }\n",
       "\n",
       "    .dataframe tbody tr th {\n",
       "        vertical-align: top;\n",
       "    }\n",
       "\n",
       "    .dataframe thead th {\n",
       "        text-align: right;\n",
       "    }\n",
       "</style>\n",
       "<table border=\"1\" class=\"dataframe\">\n",
       "  <thead>\n",
       "    <tr style=\"text-align: right;\">\n",
       "      <th></th>\n",
       "      <th>DATE</th>\n",
       "      <th>DGS10</th>\n",
       "    </tr>\n",
       "  </thead>\n",
       "  <tbody>\n",
       "    <tr>\n",
       "      <th>1</th>\n",
       "      <td>1974-01-01</td>\n",
       "      <td>7.562410</td>\n",
       "    </tr>\n",
       "    <tr>\n",
       "      <th>2</th>\n",
       "      <td>1975-01-01</td>\n",
       "      <td>7.993936</td>\n",
       "    </tr>\n",
       "    <tr>\n",
       "      <th>3</th>\n",
       "      <td>1976-01-01</td>\n",
       "      <td>7.612720</td>\n",
       "    </tr>\n",
       "    <tr>\n",
       "      <th>4</th>\n",
       "      <td>1977-01-01</td>\n",
       "      <td>7.417631</td>\n",
       "    </tr>\n",
       "    <tr>\n",
       "      <th>5</th>\n",
       "      <td>1978-01-01</td>\n",
       "      <td>8.408387</td>\n",
       "    </tr>\n",
       "  </tbody>\n",
       "</table>\n",
       "</div>"
      ],
      "text/plain": [
       "         DATE     DGS10\n",
       "1  1974-01-01  7.562410\n",
       "2  1975-01-01  7.993936\n",
       "3  1976-01-01  7.612720\n",
       "4  1977-01-01  7.417631\n",
       "5  1978-01-01  8.408387"
      ]
     },
     "execution_count": 9,
     "metadata": {},
     "output_type": "execute_result"
    }
   ],
   "source": [
    "treasury = pd.read_csv(\"DGS10-Copy1.csv\")\n",
    "treasury.index = np.arange(1,47)\n",
    "treasury.head()"
   ]
  },
  {
   "cell_type": "markdown",
   "metadata": {},
   "source": [
    "### CPI\n",
    "https://fred.stlouisfed.org/series/CPIAUCSL"
   ]
  },
  {
   "cell_type": "code",
   "execution_count": 10,
   "metadata": {},
   "outputs": [
    {
     "data": {
      "text/html": [
       "<div>\n",
       "<style scoped>\n",
       "    .dataframe tbody tr th:only-of-type {\n",
       "        vertical-align: middle;\n",
       "    }\n",
       "\n",
       "    .dataframe tbody tr th {\n",
       "        vertical-align: top;\n",
       "    }\n",
       "\n",
       "    .dataframe thead th {\n",
       "        text-align: right;\n",
       "    }\n",
       "</style>\n",
       "<table border=\"1\" class=\"dataframe\">\n",
       "  <thead>\n",
       "    <tr style=\"text-align: right;\">\n",
       "      <th></th>\n",
       "      <th>DATE</th>\n",
       "      <th>CPIAUCSL</th>\n",
       "    </tr>\n",
       "  </thead>\n",
       "  <tbody>\n",
       "    <tr>\n",
       "      <th>1</th>\n",
       "      <td>1974-01-01</td>\n",
       "      <td>49.316667</td>\n",
       "    </tr>\n",
       "    <tr>\n",
       "      <th>2</th>\n",
       "      <td>1975-01-01</td>\n",
       "      <td>53.825000</td>\n",
       "    </tr>\n",
       "    <tr>\n",
       "      <th>3</th>\n",
       "      <td>1976-01-01</td>\n",
       "      <td>56.933333</td>\n",
       "    </tr>\n",
       "    <tr>\n",
       "      <th>4</th>\n",
       "      <td>1977-01-01</td>\n",
       "      <td>60.616667</td>\n",
       "    </tr>\n",
       "    <tr>\n",
       "      <th>5</th>\n",
       "      <td>1978-01-01</td>\n",
       "      <td>65.241667</td>\n",
       "    </tr>\n",
       "  </tbody>\n",
       "</table>\n",
       "</div>"
      ],
      "text/plain": [
       "         DATE   CPIAUCSL\n",
       "1  1974-01-01  49.316667\n",
       "2  1975-01-01  53.825000\n",
       "3  1976-01-01  56.933333\n",
       "4  1977-01-01  60.616667\n",
       "5  1978-01-01  65.241667"
      ]
     },
     "execution_count": 10,
     "metadata": {},
     "output_type": "execute_result"
    }
   ],
   "source": [
    "cpi = pd.read_csv(\"CPIAUCSL-Copy1.csv\")\n",
    "cpi = cpi.iloc[27:,:]\n",
    "cpi.index = np.arange(1,47)\n",
    "cpi.head()"
   ]
  },
  {
   "cell_type": "markdown",
   "metadata": {},
   "source": [
    "### S&P 500 Returns\n",
    "https://www.macrotrends.net/2526/sp-500-historical-annual-returns"
   ]
  },
  {
   "cell_type": "code",
   "execution_count": 14,
   "metadata": {},
   "outputs": [
    {
     "data": {
      "text/html": [
       "<div>\n",
       "<style scoped>\n",
       "    .dataframe tbody tr th:only-of-type {\n",
       "        vertical-align: middle;\n",
       "    }\n",
       "\n",
       "    .dataframe tbody tr th {\n",
       "        vertical-align: top;\n",
       "    }\n",
       "\n",
       "    .dataframe thead th {\n",
       "        text-align: right;\n",
       "    }\n",
       "</style>\n",
       "<table border=\"1\" class=\"dataframe\">\n",
       "  <thead>\n",
       "    <tr style=\"text-align: right;\">\n",
       "      <th></th>\n",
       "      <th>date</th>\n",
       "      <th>value</th>\n",
       "    </tr>\n",
       "  </thead>\n",
       "  <tbody>\n",
       "    <tr>\n",
       "      <th>1</th>\n",
       "      <td>1973-12-31</td>\n",
       "      <td>-17.37</td>\n",
       "    </tr>\n",
       "    <tr>\n",
       "      <th>2</th>\n",
       "      <td>1974-12-31</td>\n",
       "      <td>-29.72</td>\n",
       "    </tr>\n",
       "    <tr>\n",
       "      <th>3</th>\n",
       "      <td>1975-12-31</td>\n",
       "      <td>31.55</td>\n",
       "    </tr>\n",
       "    <tr>\n",
       "      <th>4</th>\n",
       "      <td>1976-12-31</td>\n",
       "      <td>19.15</td>\n",
       "    </tr>\n",
       "    <tr>\n",
       "      <th>5</th>\n",
       "      <td>1977-12-30</td>\n",
       "      <td>-11.50</td>\n",
       "    </tr>\n",
       "  </tbody>\n",
       "</table>\n",
       "</div>"
      ],
      "text/plain": [
       "         date   value\n",
       "1  1973-12-31  -17.37\n",
       "2  1974-12-31  -29.72\n",
       "3  1975-12-31   31.55\n",
       "4  1976-12-31   19.15\n",
       "5  1977-12-30  -11.50"
      ]
     },
     "execution_count": 14,
     "metadata": {},
     "output_type": "execute_result"
    }
   ],
   "source": [
    "sp500 = pd.read_csv(\"sp-500-historical-annual-returns-Copy1.csv\")\n",
    "sp500 = sp500.iloc[45:-3,:]\n",
    "sp500.index = np.arange(1,47)\n",
    "sp500.head()"
   ]
  },
  {
   "cell_type": "markdown",
   "metadata": {},
   "source": [
    "### Median Weekly Real Wages\n",
    "https://fred.stlouisfed.org/series/LES1252881600Q"
   ]
  },
  {
   "cell_type": "code",
   "execution_count": 15,
   "metadata": {},
   "outputs": [
    {
     "data": {
      "text/html": [
       "<div>\n",
       "<style scoped>\n",
       "    .dataframe tbody tr th:only-of-type {\n",
       "        vertical-align: middle;\n",
       "    }\n",
       "\n",
       "    .dataframe tbody tr th {\n",
       "        vertical-align: top;\n",
       "    }\n",
       "\n",
       "    .dataframe thead th {\n",
       "        text-align: right;\n",
       "    }\n",
       "</style>\n",
       "<table border=\"1\" class=\"dataframe\">\n",
       "  <thead>\n",
       "    <tr style=\"text-align: right;\">\n",
       "      <th></th>\n",
       "      <th>DATE</th>\n",
       "      <th>MEPAINUSA672N</th>\n",
       "    </tr>\n",
       "  </thead>\n",
       "  <tbody>\n",
       "    <tr>\n",
       "      <th>1</th>\n",
       "      <td>1974-01-01</td>\n",
       "      <td>25014</td>\n",
       "    </tr>\n",
       "    <tr>\n",
       "      <th>2</th>\n",
       "      <td>1975-01-01</td>\n",
       "      <td>24540</td>\n",
       "    </tr>\n",
       "    <tr>\n",
       "      <th>3</th>\n",
       "      <td>1976-01-01</td>\n",
       "      <td>24589</td>\n",
       "    </tr>\n",
       "    <tr>\n",
       "      <th>4</th>\n",
       "      <td>1977-01-01</td>\n",
       "      <td>24775</td>\n",
       "    </tr>\n",
       "    <tr>\n",
       "      <th>5</th>\n",
       "      <td>1978-01-01</td>\n",
       "      <td>24570</td>\n",
       "    </tr>\n",
       "  </tbody>\n",
       "</table>\n",
       "</div>"
      ],
      "text/plain": [
       "         DATE  MEPAINUSA672N\n",
       "1  1974-01-01          25014\n",
       "2  1975-01-01          24540\n",
       "3  1976-01-01          24589\n",
       "4  1977-01-01          24775\n",
       "5  1978-01-01          24570"
      ]
     },
     "execution_count": 15,
     "metadata": {},
     "output_type": "execute_result"
    }
   ],
   "source": [
    "wages = pd.read_csv(\"MEPAINUSA672N-Copy1.csv\")\n",
    "wages = wages.iloc[:46,:]\n",
    "wages.index = np.arange(1,47)\n",
    "wages.head()"
   ]
  },
  {
   "cell_type": "markdown",
   "metadata": {},
   "source": [
    "### Median Sale Price of Houses\n",
    "https://fred.stlouisfed.org/series/MSPUS"
   ]
  },
  {
   "cell_type": "code",
   "execution_count": 16,
   "metadata": {},
   "outputs": [
    {
     "data": {
      "text/html": [
       "<div>\n",
       "<style scoped>\n",
       "    .dataframe tbody tr th:only-of-type {\n",
       "        vertical-align: middle;\n",
       "    }\n",
       "\n",
       "    .dataframe tbody tr th {\n",
       "        vertical-align: top;\n",
       "    }\n",
       "\n",
       "    .dataframe thead th {\n",
       "        text-align: right;\n",
       "    }\n",
       "</style>\n",
       "<table border=\"1\" class=\"dataframe\">\n",
       "  <thead>\n",
       "    <tr style=\"text-align: right;\">\n",
       "      <th></th>\n",
       "      <th>DATE</th>\n",
       "      <th>MSPUS</th>\n",
       "    </tr>\n",
       "  </thead>\n",
       "  <tbody>\n",
       "    <tr>\n",
       "      <th>1</th>\n",
       "      <td>1974-01-01</td>\n",
       "      <td>36050.0</td>\n",
       "    </tr>\n",
       "    <tr>\n",
       "      <th>2</th>\n",
       "      <td>1975-01-01</td>\n",
       "      <td>39275.0</td>\n",
       "    </tr>\n",
       "    <tr>\n",
       "      <th>3</th>\n",
       "      <td>1976-01-01</td>\n",
       "      <td>44225.0</td>\n",
       "    </tr>\n",
       "    <tr>\n",
       "      <th>4</th>\n",
       "      <td>1977-01-01</td>\n",
       "      <td>48900.0</td>\n",
       "    </tr>\n",
       "    <tr>\n",
       "      <th>5</th>\n",
       "      <td>1978-01-01</td>\n",
       "      <td>55850.0</td>\n",
       "    </tr>\n",
       "  </tbody>\n",
       "</table>\n",
       "</div>"
      ],
      "text/plain": [
       "         DATE    MSPUS\n",
       "1  1974-01-01  36050.0\n",
       "2  1975-01-01  39275.0\n",
       "3  1976-01-01  44225.0\n",
       "4  1977-01-01  48900.0\n",
       "5  1978-01-01  55850.0"
      ]
     },
     "execution_count": 16,
     "metadata": {},
     "output_type": "execute_result"
    }
   ],
   "source": [
    "houses = pd.read_csv(\"MSPUS-2-Copy1.csv\")\n",
    "houses = houses.iloc[10:,:]\n",
    "houses.index = np.arange(1,47)\n",
    "houses.head()"
   ]
  },
  {
   "cell_type": "markdown",
   "metadata": {},
   "source": [
    "### Industrial Production\n",
    "https://fred.stlouisfed.org/series/INDPRO"
   ]
  },
  {
   "cell_type": "code",
   "execution_count": 17,
   "metadata": {},
   "outputs": [
    {
     "data": {
      "text/html": [
       "<div>\n",
       "<style scoped>\n",
       "    .dataframe tbody tr th:only-of-type {\n",
       "        vertical-align: middle;\n",
       "    }\n",
       "\n",
       "    .dataframe tbody tr th {\n",
       "        vertical-align: top;\n",
       "    }\n",
       "\n",
       "    .dataframe thead th {\n",
       "        text-align: right;\n",
       "    }\n",
       "</style>\n",
       "<table border=\"1\" class=\"dataframe\">\n",
       "  <thead>\n",
       "    <tr style=\"text-align: right;\">\n",
       "      <th></th>\n",
       "      <th>DATE</th>\n",
       "      <th>INDPRO</th>\n",
       "    </tr>\n",
       "  </thead>\n",
       "  <tbody>\n",
       "    <tr>\n",
       "      <th>1</th>\n",
       "      <td>1974-01-01</td>\n",
       "      <td>46.272658</td>\n",
       "    </tr>\n",
       "    <tr>\n",
       "      <th>2</th>\n",
       "      <td>1975-01-01</td>\n",
       "      <td>42.151850</td>\n",
       "    </tr>\n",
       "    <tr>\n",
       "      <th>3</th>\n",
       "      <td>1976-01-01</td>\n",
       "      <td>45.472450</td>\n",
       "    </tr>\n",
       "    <tr>\n",
       "      <th>4</th>\n",
       "      <td>1977-01-01</td>\n",
       "      <td>48.948633</td>\n",
       "    </tr>\n",
       "    <tr>\n",
       "      <th>5</th>\n",
       "      <td>1978-01-01</td>\n",
       "      <td>51.641292</td>\n",
       "    </tr>\n",
       "  </tbody>\n",
       "</table>\n",
       "</div>"
      ],
      "text/plain": [
       "         DATE     INDPRO\n",
       "1  1974-01-01  46.272658\n",
       "2  1975-01-01  42.151850\n",
       "3  1976-01-01  45.472450\n",
       "4  1977-01-01  48.948633\n",
       "5  1978-01-01  51.641292"
      ]
     },
     "execution_count": 17,
     "metadata": {},
     "output_type": "execute_result"
    }
   ],
   "source": [
    "indprod = pd.read_csv(\"INDPRO-2-Copy1.csv\")\n",
    "indprod = indprod.iloc[:46,:]\n",
    "indprod.index = np.arange(1,47)\n",
    "indprod.head()"
   ]
  },
  {
   "cell_type": "markdown",
   "metadata": {},
   "source": [
    "### Personal Consumption Expenditures\n",
    "https://fred.stlouisfed.org/series/PCE"
   ]
  },
  {
   "cell_type": "code",
   "execution_count": 18,
   "metadata": {},
   "outputs": [
    {
     "data": {
      "text/html": [
       "<div>\n",
       "<style scoped>\n",
       "    .dataframe tbody tr th:only-of-type {\n",
       "        vertical-align: middle;\n",
       "    }\n",
       "\n",
       "    .dataframe tbody tr th {\n",
       "        vertical-align: top;\n",
       "    }\n",
       "\n",
       "    .dataframe thead th {\n",
       "        text-align: right;\n",
       "    }\n",
       "</style>\n",
       "<table border=\"1\" class=\"dataframe\">\n",
       "  <thead>\n",
       "    <tr style=\"text-align: right;\">\n",
       "      <th></th>\n",
       "      <th>DATE</th>\n",
       "      <th>PCE</th>\n",
       "    </tr>\n",
       "  </thead>\n",
       "  <tbody>\n",
       "    <tr>\n",
       "      <th>1</th>\n",
       "      <td>1974-01-01</td>\n",
       "      <td>930.150000</td>\n",
       "    </tr>\n",
       "    <tr>\n",
       "      <th>2</th>\n",
       "      <td>1975-01-01</td>\n",
       "      <td>1030.558333</td>\n",
       "    </tr>\n",
       "    <tr>\n",
       "      <th>3</th>\n",
       "      <td>1976-01-01</td>\n",
       "      <td>1147.666667</td>\n",
       "    </tr>\n",
       "    <tr>\n",
       "      <th>4</th>\n",
       "      <td>1977-01-01</td>\n",
       "      <td>1273.975000</td>\n",
       "    </tr>\n",
       "    <tr>\n",
       "      <th>5</th>\n",
       "      <td>1978-01-01</td>\n",
       "      <td>1422.250000</td>\n",
       "    </tr>\n",
       "  </tbody>\n",
       "</table>\n",
       "</div>"
      ],
      "text/plain": [
       "         DATE          PCE\n",
       "1  1974-01-01   930.150000\n",
       "2  1975-01-01  1030.558333\n",
       "3  1976-01-01  1147.666667\n",
       "4  1977-01-01  1273.975000\n",
       "5  1978-01-01  1422.250000"
      ]
     },
     "execution_count": 18,
     "metadata": {},
     "output_type": "execute_result"
    }
   ],
   "source": [
    "cpe = pd.read_csv(\"PCE-2-Copy1.csv\")\n",
    "cpe = cpe.iloc[:46,:]\n",
    "cpe.index = np.arange(1,47)\n",
    "cpe.head()"
   ]
  },
  {
   "cell_type": "markdown",
   "metadata": {},
   "source": [
    "### Personal Income\n",
    "https://fred.stlouisfed.org/series/MEPAINUSA672N"
   ]
  },
  {
   "cell_type": "code",
   "execution_count": 19,
   "metadata": {},
   "outputs": [
    {
     "data": {
      "text/html": [
       "<div>\n",
       "<style scoped>\n",
       "    .dataframe tbody tr th:only-of-type {\n",
       "        vertical-align: middle;\n",
       "    }\n",
       "\n",
       "    .dataframe tbody tr th {\n",
       "        vertical-align: top;\n",
       "    }\n",
       "\n",
       "    .dataframe thead th {\n",
       "        text-align: right;\n",
       "    }\n",
       "</style>\n",
       "<table border=\"1\" class=\"dataframe\">\n",
       "  <thead>\n",
       "    <tr style=\"text-align: right;\">\n",
       "      <th></th>\n",
       "      <th>DATE</th>\n",
       "      <th>MEPAINUSA672N</th>\n",
       "    </tr>\n",
       "  </thead>\n",
       "  <tbody>\n",
       "    <tr>\n",
       "      <th>1</th>\n",
       "      <td>1974-01-01</td>\n",
       "      <td>25014</td>\n",
       "    </tr>\n",
       "    <tr>\n",
       "      <th>2</th>\n",
       "      <td>1975-01-01</td>\n",
       "      <td>24540</td>\n",
       "    </tr>\n",
       "    <tr>\n",
       "      <th>3</th>\n",
       "      <td>1976-01-01</td>\n",
       "      <td>24589</td>\n",
       "    </tr>\n",
       "    <tr>\n",
       "      <th>4</th>\n",
       "      <td>1977-01-01</td>\n",
       "      <td>24775</td>\n",
       "    </tr>\n",
       "    <tr>\n",
       "      <th>5</th>\n",
       "      <td>1978-01-01</td>\n",
       "      <td>24570</td>\n",
       "    </tr>\n",
       "  </tbody>\n",
       "</table>\n",
       "</div>"
      ],
      "text/plain": [
       "         DATE  MEPAINUSA672N\n",
       "1  1974-01-01          25014\n",
       "2  1975-01-01          24540\n",
       "3  1976-01-01          24589\n",
       "4  1977-01-01          24775\n",
       "5  1978-01-01          24570"
      ]
     },
     "execution_count": 19,
     "metadata": {},
     "output_type": "execute_result"
    }
   ],
   "source": [
    "p_income = pd.read_csv(\"MEPAINUSA672N-Copy1.csv\")\n",
    "p_income.index = np.arange(1,47)\n",
    "p_income.head()"
   ]
  },
  {
   "cell_type": "markdown",
   "metadata": {},
   "source": [
    "### Putting Them All Together"
   ]
  },
  {
   "cell_type": "code",
   "execution_count": 20,
   "metadata": {},
   "outputs": [],
   "source": [
    "data = p_income"
   ]
  },
  {
   "cell_type": "code",
   "execution_count": 21,
   "metadata": {},
   "outputs": [
    {
     "data": {
      "text/html": [
       "<div>\n",
       "<style scoped>\n",
       "    .dataframe tbody tr th:only-of-type {\n",
       "        vertical-align: middle;\n",
       "    }\n",
       "\n",
       "    .dataframe tbody tr th {\n",
       "        vertical-align: top;\n",
       "    }\n",
       "\n",
       "    .dataframe thead th {\n",
       "        text-align: right;\n",
       "    }\n",
       "</style>\n",
       "<table border=\"1\" class=\"dataframe\">\n",
       "  <thead>\n",
       "    <tr style=\"text-align: right;\">\n",
       "      <th></th>\n",
       "      <th>Date</th>\n",
       "      <th>Personal Income</th>\n",
       "      <th>High Tax Bracket</th>\n",
       "      <th>Low Tax Bracket</th>\n",
       "      <th>Unemployment Rate</th>\n",
       "      <th>GDP</th>\n",
       "      <th>10 Yr Treasury Yield</th>\n",
       "      <th>CPI</th>\n",
       "      <th>SP500</th>\n",
       "      <th>Wages</th>\n",
       "      <th>Houses</th>\n",
       "      <th>Industrial Production</th>\n",
       "      <th>Consumer Expenditures</th>\n",
       "    </tr>\n",
       "  </thead>\n",
       "  <tbody>\n",
       "    <tr>\n",
       "      <th>1</th>\n",
       "      <td>1974-01-01</td>\n",
       "      <td>25014</td>\n",
       "      <td>70.0</td>\n",
       "      <td>14.0</td>\n",
       "      <td>5.641667</td>\n",
       "      <td>1545.24250</td>\n",
       "      <td>7.562410</td>\n",
       "      <td>49.316667</td>\n",
       "      <td>-17.37</td>\n",
       "      <td>25014</td>\n",
       "      <td>36050.0</td>\n",
       "      <td>46.272658</td>\n",
       "      <td>930.150000</td>\n",
       "    </tr>\n",
       "    <tr>\n",
       "      <th>2</th>\n",
       "      <td>1975-01-01</td>\n",
       "      <td>24540</td>\n",
       "      <td>70.0</td>\n",
       "      <td>14.0</td>\n",
       "      <td>8.475000</td>\n",
       "      <td>1684.90500</td>\n",
       "      <td>7.993936</td>\n",
       "      <td>53.825000</td>\n",
       "      <td>-29.72</td>\n",
       "      <td>24540</td>\n",
       "      <td>39275.0</td>\n",
       "      <td>42.151850</td>\n",
       "      <td>1030.558333</td>\n",
       "    </tr>\n",
       "    <tr>\n",
       "      <th>3</th>\n",
       "      <td>1976-01-01</td>\n",
       "      <td>24589</td>\n",
       "      <td>70.0</td>\n",
       "      <td>14.0</td>\n",
       "      <td>7.700000</td>\n",
       "      <td>1873.41250</td>\n",
       "      <td>7.612720</td>\n",
       "      <td>56.933333</td>\n",
       "      <td>31.55</td>\n",
       "      <td>24589</td>\n",
       "      <td>44225.0</td>\n",
       "      <td>45.472450</td>\n",
       "      <td>1147.666667</td>\n",
       "    </tr>\n",
       "    <tr>\n",
       "      <th>4</th>\n",
       "      <td>1977-01-01</td>\n",
       "      <td>24775</td>\n",
       "      <td>70.0</td>\n",
       "      <td>14.0</td>\n",
       "      <td>7.050000</td>\n",
       "      <td>2081.82500</td>\n",
       "      <td>7.417631</td>\n",
       "      <td>60.616667</td>\n",
       "      <td>19.15</td>\n",
       "      <td>24775</td>\n",
       "      <td>48900.0</td>\n",
       "      <td>48.948633</td>\n",
       "      <td>1273.975000</td>\n",
       "    </tr>\n",
       "    <tr>\n",
       "      <th>5</th>\n",
       "      <td>1978-01-01</td>\n",
       "      <td>24570</td>\n",
       "      <td>70.0</td>\n",
       "      <td>14.0</td>\n",
       "      <td>6.066667</td>\n",
       "      <td>2351.59875</td>\n",
       "      <td>8.408387</td>\n",
       "      <td>65.241667</td>\n",
       "      <td>-11.50</td>\n",
       "      <td>24570</td>\n",
       "      <td>55850.0</td>\n",
       "      <td>51.641292</td>\n",
       "      <td>1422.250000</td>\n",
       "    </tr>\n",
       "  </tbody>\n",
       "</table>\n",
       "</div>"
      ],
      "text/plain": [
       "         Date  Personal Income  High Tax Bracket  Low Tax Bracket  \\\n",
       "1  1974-01-01            25014              70.0             14.0   \n",
       "2  1975-01-01            24540              70.0             14.0   \n",
       "3  1976-01-01            24589              70.0             14.0   \n",
       "4  1977-01-01            24775              70.0             14.0   \n",
       "5  1978-01-01            24570              70.0             14.0   \n",
       "\n",
       "   Unemployment Rate         GDP  10 Yr Treasury Yield        CPI  SP500  \\\n",
       "1           5.641667  1545.24250              7.562410  49.316667 -17.37   \n",
       "2           8.475000  1684.90500              7.993936  53.825000 -29.72   \n",
       "3           7.700000  1873.41250              7.612720  56.933333  31.55   \n",
       "4           7.050000  2081.82500              7.417631  60.616667  19.15   \n",
       "5           6.066667  2351.59875              8.408387  65.241667 -11.50   \n",
       "\n",
       "   Wages   Houses  Industrial Production  Consumer Expenditures  \n",
       "1  25014  36050.0              46.272658             930.150000  \n",
       "2  24540  39275.0              42.151850            1030.558333  \n",
       "3  24589  44225.0              45.472450            1147.666667  \n",
       "4  24775  48900.0              48.948633            1273.975000  \n",
       "5  24570  55850.0              51.641292            1422.250000  "
      ]
     },
     "execution_count": 21,
     "metadata": {},
     "output_type": "execute_result"
    }
   ],
   "source": [
    "data.columns = [\"Date\", \"Personal Income\"]\n",
    "data[\"High Tax Bracket\"] = high_taxes.iloc[:,1]\n",
    "data[\"Low Tax Bracket\"] = low_taxes.iloc[:,1]\n",
    "data[\"Unemployment Rate\"] = unemployment.iloc[:,1]\n",
    "data[\"GDP\"] = gdp.iloc[:,1]\n",
    "data[\"10 Yr Treasury Yield\"] = treasury.iloc[:,1]\n",
    "data[\"CPI\"] = cpi.iloc[:,1]\n",
    "data[\"SP500\"] = sp500.iloc[:,1]\n",
    "data[\"Wages\"] = wages.iloc[:,1]\n",
    "data[\"Houses\"] = houses.iloc[:,1]\n",
    "data[\"Industrial Production\"] = indprod.iloc[:,1]\n",
    "data[\"Consumer Expenditures\"] = cpe.iloc[:,1]\n",
    "data[\"Date\"] = unemployment.iloc[:,0]\n",
    "data.head()"
   ]
  },
  {
   "cell_type": "markdown",
   "metadata": {},
   "source": [
    "### Part 2 - Multiple Linear/Log Regression"
   ]
  },
  {
   "cell_type": "code",
   "execution_count": 22,
   "metadata": {},
   "outputs": [],
   "source": [
    "import statsmodels.api as sm\n",
    "from scipy.stats import pearsonr"
   ]
  },
  {
   "cell_type": "code",
   "execution_count": 23,
   "metadata": {},
   "outputs": [
    {
     "data": {
      "text/html": [
       "<table class=\"simpletable\">\n",
       "<caption>OLS Regression Results</caption>\n",
       "<tr>\n",
       "  <th>Dep. Variable:</th>     <td>Personal Income</td> <th>  R-squared:         </th> <td>   1.000</td> \n",
       "</tr>\n",
       "<tr>\n",
       "  <th>Model:</th>                   <td>OLS</td>       <th>  Adj. R-squared:    </th> <td>   1.000</td> \n",
       "</tr>\n",
       "<tr>\n",
       "  <th>Method:</th>             <td>Least Squares</td>  <th>  F-statistic:       </th> <td>1.905e+27</td>\n",
       "</tr>\n",
       "<tr>\n",
       "  <th>Date:</th>             <td>Sun, 25 Apr 2021</td> <th>  Prob (F-statistic):</th>  <td>  0.00</td>  \n",
       "</tr>\n",
       "<tr>\n",
       "  <th>Time:</th>                 <td>22:53:11</td>     <th>  Log-Likelihood:    </th> <td>  978.31</td> \n",
       "</tr>\n",
       "<tr>\n",
       "  <th>No. Observations:</th>      <td>    46</td>      <th>  AIC:               </th> <td>  -1933.</td> \n",
       "</tr>\n",
       "<tr>\n",
       "  <th>Df Residuals:</th>          <td>    34</td>      <th>  BIC:               </th> <td>  -1911.</td> \n",
       "</tr>\n",
       "<tr>\n",
       "  <th>Df Model:</th>              <td>    11</td>      <th>                     </th>     <td> </td>    \n",
       "</tr>\n",
       "<tr>\n",
       "  <th>Covariance Type:</th>      <td>nonrobust</td>    <th>                     </th>     <td> </td>    \n",
       "</tr>\n",
       "</table>\n",
       "<table class=\"simpletable\">\n",
       "<tr>\n",
       "            <td></td>               <th>coef</th>     <th>std err</th>      <th>t</th>      <th>P>|t|</th>  <th>[0.025</th>    <th>0.975]</th>  \n",
       "</tr>\n",
       "<tr>\n",
       "  <th>const</th>                 <td>-5.821e-11</td> <td>  1.5e-09</td> <td>   -0.039</td> <td> 0.969</td> <td> -3.1e-09</td> <td> 2.99e-09</td>\n",
       "</tr>\n",
       "<tr>\n",
       "  <th>High Tax Bracket</th>      <td> 5.116e-13</td> <td> 5.81e-12</td> <td>    0.088</td> <td> 0.930</td> <td>-1.13e-11</td> <td> 1.23e-11</td>\n",
       "</tr>\n",
       "<tr>\n",
       "  <th>Low Tax Bracket</th>       <td> 2.501e-12</td> <td> 2.13e-11</td> <td>    0.118</td> <td> 0.907</td> <td>-4.07e-11</td> <td> 4.57e-11</td>\n",
       "</tr>\n",
       "<tr>\n",
       "  <th>Unemployment Rate</th>     <td> 1.933e-12</td> <td> 3.88e-11</td> <td>    0.050</td> <td> 0.961</td> <td>-7.69e-11</td> <td> 8.08e-11</td>\n",
       "</tr>\n",
       "<tr>\n",
       "  <th>GDP</th>                   <td> 3.553e-14</td> <td> 5.27e-13</td> <td>    0.067</td> <td> 0.947</td> <td>-1.03e-12</td> <td> 1.11e-12</td>\n",
       "</tr>\n",
       "<tr>\n",
       "  <th>10 Yr Treasury Yield</th>  <td> 4.547e-13</td> <td>  2.1e-11</td> <td>    0.022</td> <td> 0.983</td> <td>-4.23e-11</td> <td> 4.32e-11</td>\n",
       "</tr>\n",
       "<tr>\n",
       "  <th>CPI</th>                   <td>-2.274e-13</td> <td> 6.56e-12</td> <td>   -0.035</td> <td> 0.973</td> <td>-1.36e-11</td> <td> 1.31e-11</td>\n",
       "</tr>\n",
       "<tr>\n",
       "  <th>SP500</th>                 <td>-1.137e-13</td> <td> 1.76e-12</td> <td>   -0.065</td> <td> 0.949</td> <td>-3.68e-12</td> <td> 3.46e-12</td>\n",
       "</tr>\n",
       "<tr>\n",
       "  <th>Wages</th>                 <td>    1.0000</td> <td>  4.4e-14</td> <td> 2.27e+13</td> <td> 0.000</td> <td>    1.000</td> <td>    1.000</td>\n",
       "</tr>\n",
       "<tr>\n",
       "  <th>Houses</th>                <td> 1.388e-16</td> <td>  3.6e-15</td> <td>    0.039</td> <td> 0.969</td> <td>-7.18e-15</td> <td> 7.46e-15</td>\n",
       "</tr>\n",
       "<tr>\n",
       "  <th>Industrial Production</th> <td>-3.411e-13</td> <td> 9.51e-12</td> <td>   -0.036</td> <td> 0.972</td> <td>-1.97e-11</td> <td>  1.9e-11</td>\n",
       "</tr>\n",
       "<tr>\n",
       "  <th>Consumer Expenditures</th> <td>-2.842e-14</td> <td> 7.21e-13</td> <td>   -0.039</td> <td> 0.969</td> <td>-1.49e-12</td> <td> 1.44e-12</td>\n",
       "</tr>\n",
       "</table>\n",
       "<table class=\"simpletable\">\n",
       "<tr>\n",
       "  <th>Omnibus:</th>       <td> 5.463</td> <th>  Durbin-Watson:     </th> <td>   0.003</td>\n",
       "</tr>\n",
       "<tr>\n",
       "  <th>Prob(Omnibus):</th> <td> 0.065</td> <th>  Jarque-Bera (JB):  </th> <td>   4.282</td>\n",
       "</tr>\n",
       "<tr>\n",
       "  <th>Skew:</th>          <td>-0.628</td> <th>  Prob(JB):          </th> <td>   0.118</td>\n",
       "</tr>\n",
       "<tr>\n",
       "  <th>Kurtosis:</th>      <td> 2.188</td> <th>  Cond. No.          </th> <td>1.15e+07</td>\n",
       "</tr>\n",
       "</table><br/><br/>Notes:<br/>[1] Standard Errors assume that the covariance matrix of the errors is correctly specified.<br/>[2] The condition number is large, 1.15e+07. This might indicate that there are<br/>strong multicollinearity or other numerical problems."
      ],
      "text/plain": [
       "<class 'statsmodels.iolib.summary.Summary'>\n",
       "\"\"\"\n",
       "                            OLS Regression Results                            \n",
       "==============================================================================\n",
       "Dep. Variable:        Personal Income   R-squared:                       1.000\n",
       "Model:                            OLS   Adj. R-squared:                  1.000\n",
       "Method:                 Least Squares   F-statistic:                 1.905e+27\n",
       "Date:                Sun, 25 Apr 2021   Prob (F-statistic):               0.00\n",
       "Time:                        22:53:11   Log-Likelihood:                 978.31\n",
       "No. Observations:                  46   AIC:                            -1933.\n",
       "Df Residuals:                      34   BIC:                            -1911.\n",
       "Df Model:                          11                                         \n",
       "Covariance Type:            nonrobust                                         \n",
       "=========================================================================================\n",
       "                            coef    std err          t      P>|t|      [0.025      0.975]\n",
       "-----------------------------------------------------------------------------------------\n",
       "const                 -5.821e-11    1.5e-09     -0.039      0.969    -3.1e-09    2.99e-09\n",
       "High Tax Bracket       5.116e-13   5.81e-12      0.088      0.930   -1.13e-11    1.23e-11\n",
       "Low Tax Bracket        2.501e-12   2.13e-11      0.118      0.907   -4.07e-11    4.57e-11\n",
       "Unemployment Rate      1.933e-12   3.88e-11      0.050      0.961   -7.69e-11    8.08e-11\n",
       "GDP                    3.553e-14   5.27e-13      0.067      0.947   -1.03e-12    1.11e-12\n",
       "10 Yr Treasury Yield   4.547e-13    2.1e-11      0.022      0.983   -4.23e-11    4.32e-11\n",
       "CPI                   -2.274e-13   6.56e-12     -0.035      0.973   -1.36e-11    1.31e-11\n",
       "SP500                 -1.137e-13   1.76e-12     -0.065      0.949   -3.68e-12    3.46e-12\n",
       "Wages                     1.0000    4.4e-14   2.27e+13      0.000       1.000       1.000\n",
       "Houses                 1.388e-16    3.6e-15      0.039      0.969   -7.18e-15    7.46e-15\n",
       "Industrial Production -3.411e-13   9.51e-12     -0.036      0.972   -1.97e-11     1.9e-11\n",
       "Consumer Expenditures -2.842e-14   7.21e-13     -0.039      0.969   -1.49e-12    1.44e-12\n",
       "==============================================================================\n",
       "Omnibus:                        5.463   Durbin-Watson:                   0.003\n",
       "Prob(Omnibus):                  0.065   Jarque-Bera (JB):                4.282\n",
       "Skew:                          -0.628   Prob(JB):                        0.118\n",
       "Kurtosis:                       2.188   Cond. No.                     1.15e+07\n",
       "==============================================================================\n",
       "\n",
       "Notes:\n",
       "[1] Standard Errors assume that the covariance matrix of the errors is correctly specified.\n",
       "[2] The condition number is large, 1.15e+07. This might indicate that there are\n",
       "strong multicollinearity or other numerical problems.\n",
       "\"\"\""
      ]
     },
     "execution_count": 23,
     "metadata": {},
     "output_type": "execute_result"
    }
   ],
   "source": [
    "# defining our dependent variable\n",
    "y = data[\"Personal Income\"]\n",
    "# defining our independent variables and dropping columns date and personal income\n",
    "x = data.drop(columns = [\"Date\", \"Personal Income\"])\n",
    "\n",
    "# adding constant for our intercept\n",
    "x_with_cnst = sm.add_constant(x)\n",
    "\n",
    "#running the model\n",
    "model = sm.OLS(y, x_with_cnst)\n",
    "results = model.fit()\n",
    "results.summary()"
   ]
  },
  {
   "cell_type": "markdown",
   "metadata": {},
   "source": [
    "What we see here is that each variable is insignificant except for real wages, but that our adjusted squared value is 1.00. Let's try our model again without real wages:"
   ]
  },
  {
   "cell_type": "code",
   "execution_count": 24,
   "metadata": {},
   "outputs": [
    {
     "data": {
      "text/html": [
       "<table class=\"simpletable\">\n",
       "<caption>OLS Regression Results</caption>\n",
       "<tr>\n",
       "  <th>Dep. Variable:</th>     <td>Personal Income</td> <th>  R-squared:         </th> <td>   0.975</td>\n",
       "</tr>\n",
       "<tr>\n",
       "  <th>Model:</th>                   <td>OLS</td>       <th>  Adj. R-squared:    </th> <td>   0.968</td>\n",
       "</tr>\n",
       "<tr>\n",
       "  <th>Method:</th>             <td>Least Squares</td>  <th>  F-statistic:       </th> <td>   138.7</td>\n",
       "</tr>\n",
       "<tr>\n",
       "  <th>Date:</th>             <td>Sun, 25 Apr 2021</td> <th>  Prob (F-statistic):</th> <td>4.24e-25</td>\n",
       "</tr>\n",
       "<tr>\n",
       "  <th>Time:</th>                 <td>22:53:12</td>     <th>  Log-Likelihood:    </th> <td> -355.27</td>\n",
       "</tr>\n",
       "<tr>\n",
       "  <th>No. Observations:</th>      <td>    46</td>      <th>  AIC:               </th> <td>   732.5</td>\n",
       "</tr>\n",
       "<tr>\n",
       "  <th>Df Residuals:</th>          <td>    35</td>      <th>  BIC:               </th> <td>   752.7</td>\n",
       "</tr>\n",
       "<tr>\n",
       "  <th>Df Model:</th>              <td>    10</td>      <th>                     </th>     <td> </td>   \n",
       "</tr>\n",
       "<tr>\n",
       "  <th>Covariance Type:</th>      <td>nonrobust</td>    <th>                     </th>     <td> </td>   \n",
       "</tr>\n",
       "</table>\n",
       "<table class=\"simpletable\">\n",
       "<tr>\n",
       "            <td></td>               <th>coef</th>     <th>std err</th>      <th>t</th>      <th>P>|t|</th>  <th>[0.025</th>    <th>0.975]</th>  \n",
       "</tr>\n",
       "<tr>\n",
       "  <th>const</th>                 <td> 2.953e+04</td> <td> 2854.178</td> <td>   10.347</td> <td> 0.000</td> <td> 2.37e+04</td> <td> 3.53e+04</td>\n",
       "</tr>\n",
       "<tr>\n",
       "  <th>High Tax Bracket</th>      <td>  -74.9473</td> <td>   18.351</td> <td>   -4.084</td> <td> 0.000</td> <td> -112.202</td> <td>  -37.693</td>\n",
       "</tr>\n",
       "<tr>\n",
       "  <th>Low Tax Bracket</th>       <td>   -4.8927</td> <td>   81.638</td> <td>   -0.060</td> <td> 0.953</td> <td> -170.627</td> <td>  160.841</td>\n",
       "</tr>\n",
       "<tr>\n",
       "  <th>Unemployment Rate</th>     <td> -361.0322</td> <td>  135.858</td> <td>   -2.657</td> <td> 0.012</td> <td> -636.838</td> <td>  -85.227</td>\n",
       "</tr>\n",
       "<tr>\n",
       "  <th>GDP</th>                   <td>    1.3487</td> <td>    2.009</td> <td>    0.671</td> <td> 0.506</td> <td>   -2.730</td> <td>    5.428</td>\n",
       "</tr>\n",
       "<tr>\n",
       "  <th>10 Yr Treasury Yield</th>  <td> -103.4334</td> <td>   78.771</td> <td>   -1.313</td> <td> 0.198</td> <td> -263.347</td> <td>   56.481</td>\n",
       "</tr>\n",
       "<tr>\n",
       "  <th>CPI</th>                   <td>  -61.8559</td> <td>   22.914</td> <td>   -2.699</td> <td> 0.011</td> <td> -108.374</td> <td>  -15.338</td>\n",
       "</tr>\n",
       "<tr>\n",
       "  <th>SP500</th>                 <td>   -9.6318</td> <td>    6.546</td> <td>   -1.471</td> <td> 0.150</td> <td>  -22.920</td> <td>    3.657</td>\n",
       "</tr>\n",
       "<tr>\n",
       "  <th>Houses</th>                <td>   -0.0305</td> <td>    0.013</td> <td>   -2.377</td> <td> 0.023</td> <td>   -0.057</td> <td>   -0.004</td>\n",
       "</tr>\n",
       "<tr>\n",
       "  <th>Industrial Production</th> <td>  144.6749</td> <td>   27.090</td> <td>    5.341</td> <td> 0.000</td> <td>   89.680</td> <td>  199.670</td>\n",
       "</tr>\n",
       "<tr>\n",
       "  <th>Consumer Expenditures</th> <td>   -0.6137</td> <td>    2.768</td> <td>   -0.222</td> <td> 0.826</td> <td>   -6.233</td> <td>    5.005</td>\n",
       "</tr>\n",
       "</table>\n",
       "<table class=\"simpletable\">\n",
       "<tr>\n",
       "  <th>Omnibus:</th>       <td> 4.455</td> <th>  Durbin-Watson:     </th> <td>   1.263</td>\n",
       "</tr>\n",
       "<tr>\n",
       "  <th>Prob(Omnibus):</th> <td> 0.108</td> <th>  Jarque-Bera (JB):  </th> <td>   3.486</td>\n",
       "</tr>\n",
       "<tr>\n",
       "  <th>Skew:</th>          <td>-0.657</td> <th>  Prob(JB):          </th> <td>   0.175</td>\n",
       "</tr>\n",
       "<tr>\n",
       "  <th>Kurtosis:</th>      <td> 3.305</td> <th>  Cond. No.          </th> <td>5.66e+06</td>\n",
       "</tr>\n",
       "</table><br/><br/>Notes:<br/>[1] Standard Errors assume that the covariance matrix of the errors is correctly specified.<br/>[2] The condition number is large, 5.66e+06. This might indicate that there are<br/>strong multicollinearity or other numerical problems."
      ],
      "text/plain": [
       "<class 'statsmodels.iolib.summary.Summary'>\n",
       "\"\"\"\n",
       "                            OLS Regression Results                            \n",
       "==============================================================================\n",
       "Dep. Variable:        Personal Income   R-squared:                       0.975\n",
       "Model:                            OLS   Adj. R-squared:                  0.968\n",
       "Method:                 Least Squares   F-statistic:                     138.7\n",
       "Date:                Sun, 25 Apr 2021   Prob (F-statistic):           4.24e-25\n",
       "Time:                        22:53:12   Log-Likelihood:                -355.27\n",
       "No. Observations:                  46   AIC:                             732.5\n",
       "Df Residuals:                      35   BIC:                             752.7\n",
       "Df Model:                          10                                         \n",
       "Covariance Type:            nonrobust                                         \n",
       "=========================================================================================\n",
       "                            coef    std err          t      P>|t|      [0.025      0.975]\n",
       "-----------------------------------------------------------------------------------------\n",
       "const                  2.953e+04   2854.178     10.347      0.000    2.37e+04    3.53e+04\n",
       "High Tax Bracket        -74.9473     18.351     -4.084      0.000    -112.202     -37.693\n",
       "Low Tax Bracket          -4.8927     81.638     -0.060      0.953    -170.627     160.841\n",
       "Unemployment Rate      -361.0322    135.858     -2.657      0.012    -636.838     -85.227\n",
       "GDP                       1.3487      2.009      0.671      0.506      -2.730       5.428\n",
       "10 Yr Treasury Yield   -103.4334     78.771     -1.313      0.198    -263.347      56.481\n",
       "CPI                     -61.8559     22.914     -2.699      0.011    -108.374     -15.338\n",
       "SP500                    -9.6318      6.546     -1.471      0.150     -22.920       3.657\n",
       "Houses                   -0.0305      0.013     -2.377      0.023      -0.057      -0.004\n",
       "Industrial Production   144.6749     27.090      5.341      0.000      89.680     199.670\n",
       "Consumer Expenditures    -0.6137      2.768     -0.222      0.826      -6.233       5.005\n",
       "==============================================================================\n",
       "Omnibus:                        4.455   Durbin-Watson:                   1.263\n",
       "Prob(Omnibus):                  0.108   Jarque-Bera (JB):                3.486\n",
       "Skew:                          -0.657   Prob(JB):                        0.175\n",
       "Kurtosis:                       3.305   Cond. No.                     5.66e+06\n",
       "==============================================================================\n",
       "\n",
       "Notes:\n",
       "[1] Standard Errors assume that the covariance matrix of the errors is correctly specified.\n",
       "[2] The condition number is large, 5.66e+06. This might indicate that there are\n",
       "strong multicollinearity or other numerical problems.\n",
       "\"\"\""
      ]
     },
     "execution_count": 24,
     "metadata": {},
     "output_type": "execute_result"
    }
   ],
   "source": [
    "# running the model again but dropping wages because it is pretty much the same as our dependent variable\n",
    "y = data[\"Personal Income\"]\n",
    "x = data.drop(columns = [\"Date\", \"Personal Income\", \"Wages\"])\n",
    "x_with_cnst = sm.add_constant(x)\n",
    "\n",
    "model = sm.OLS(y, x_with_cnst)\n",
    "results = model.fit()\n",
    "results.summary()"
   ]
  },
  {
   "cell_type": "markdown",
   "metadata": {},
   "source": [
    "Our model is looking better now. Just how much do real wages predict changes in median income? Perhaps the two variables are pulled from the same data."
   ]
  },
  {
   "cell_type": "code",
   "execution_count": 25,
   "metadata": {},
   "outputs": [
    {
     "name": "stdout",
     "output_type": "stream",
     "text": [
      "(0.9999999999999996, 0.0)\n"
     ]
    },
    {
     "data": {
      "text/html": [
       "<table class=\"simpletable\">\n",
       "<caption>OLS Regression Results</caption>\n",
       "<tr>\n",
       "  <th>Dep. Variable:</th>     <td>Personal Income</td> <th>  R-squared:         </th> <td>   1.000</td> \n",
       "</tr>\n",
       "<tr>\n",
       "  <th>Model:</th>                   <td>OLS</td>       <th>  Adj. R-squared:    </th> <td>   1.000</td> \n",
       "</tr>\n",
       "<tr>\n",
       "  <th>Method:</th>             <td>Least Squares</td>  <th>  F-statistic:       </th> <td>2.445e+31</td>\n",
       "</tr>\n",
       "<tr>\n",
       "  <th>Date:</th>             <td>Sun, 25 Apr 2021</td> <th>  Prob (F-statistic):</th>  <td>  0.00</td>  \n",
       "</tr>\n",
       "<tr>\n",
       "  <th>Time:</th>                 <td>22:53:12</td>     <th>  Log-Likelihood:    </th> <td>  1134.8</td> \n",
       "</tr>\n",
       "<tr>\n",
       "  <th>No. Observations:</th>      <td>    46</td>      <th>  AIC:               </th> <td>  -2266.</td> \n",
       "</tr>\n",
       "<tr>\n",
       "  <th>Df Residuals:</th>          <td>    44</td>      <th>  BIC:               </th> <td>  -2262.</td> \n",
       "</tr>\n",
       "<tr>\n",
       "  <th>Df Model:</th>              <td>     1</td>      <th>                     </th>     <td> </td>    \n",
       "</tr>\n",
       "<tr>\n",
       "  <th>Covariance Type:</th>      <td>nonrobust</td>    <th>                     </th>     <td> </td>    \n",
       "</tr>\n",
       "</table>\n",
       "<table class=\"simpletable\">\n",
       "<tr>\n",
       "    <td></td>       <th>coef</th>     <th>std err</th>      <th>t</th>      <th>P>|t|</th>  <th>[0.025</th>    <th>0.975]</th>  \n",
       "</tr>\n",
       "<tr>\n",
       "  <th>const</th> <td>-2.365e-11</td> <td> 5.86e-12</td> <td>   -4.036</td> <td> 0.000</td> <td>-3.55e-11</td> <td>-1.18e-11</td>\n",
       "</tr>\n",
       "<tr>\n",
       "  <th>Wages</th> <td>    1.0000</td> <td> 2.02e-16</td> <td> 4.94e+15</td> <td> 0.000</td> <td>    1.000</td> <td>    1.000</td>\n",
       "</tr>\n",
       "</table>\n",
       "<table class=\"simpletable\">\n",
       "<tr>\n",
       "  <th>Omnibus:</th>       <td>5454.301</td> <th>  Durbin-Watson:     </th> <td>   0.158</td>\n",
       "</tr>\n",
       "<tr>\n",
       "  <th>Prob(Omnibus):</th>  <td> 0.000</td>  <th>  Jarque-Bera (JB):  </th> <td>   7.696</td>\n",
       "</tr>\n",
       "<tr>\n",
       "  <th>Skew:</th>           <td>-0.353</td>  <th>  Prob(JB):          </th> <td>  0.0213</td>\n",
       "</tr>\n",
       "<tr>\n",
       "  <th>Kurtosis:</th>       <td> 1.125</td>  <th>  Cond. No.          </th> <td>2.41e+05</td>\n",
       "</tr>\n",
       "</table><br/><br/>Notes:<br/>[1] Standard Errors assume that the covariance matrix of the errors is correctly specified.<br/>[2] The condition number is large, 2.41e+05. This might indicate that there are<br/>strong multicollinearity or other numerical problems."
      ],
      "text/plain": [
       "<class 'statsmodels.iolib.summary.Summary'>\n",
       "\"\"\"\n",
       "                            OLS Regression Results                            \n",
       "==============================================================================\n",
       "Dep. Variable:        Personal Income   R-squared:                       1.000\n",
       "Model:                            OLS   Adj. R-squared:                  1.000\n",
       "Method:                 Least Squares   F-statistic:                 2.445e+31\n",
       "Date:                Sun, 25 Apr 2021   Prob (F-statistic):               0.00\n",
       "Time:                        22:53:12   Log-Likelihood:                 1134.8\n",
       "No. Observations:                  46   AIC:                            -2266.\n",
       "Df Residuals:                      44   BIC:                            -2262.\n",
       "Df Model:                           1                                         \n",
       "Covariance Type:            nonrobust                                         \n",
       "==============================================================================\n",
       "                 coef    std err          t      P>|t|      [0.025      0.975]\n",
       "------------------------------------------------------------------------------\n",
       "const      -2.365e-11   5.86e-12     -4.036      0.000   -3.55e-11   -1.18e-11\n",
       "Wages          1.0000   2.02e-16   4.94e+15      0.000       1.000       1.000\n",
       "==============================================================================\n",
       "Omnibus:                     5454.301   Durbin-Watson:                   0.158\n",
       "Prob(Omnibus):                  0.000   Jarque-Bera (JB):                7.696\n",
       "Skew:                          -0.353   Prob(JB):                       0.0213\n",
       "Kurtosis:                       1.125   Cond. No.                     2.41e+05\n",
       "==============================================================================\n",
       "\n",
       "Notes:\n",
       "[1] Standard Errors assume that the covariance matrix of the errors is correctly specified.\n",
       "[2] The condition number is large, 2.41e+05. This might indicate that there are\n",
       "strong multicollinearity or other numerical problems.\n",
       "\"\"\""
      ]
     },
     "execution_count": 25,
     "metadata": {},
     "output_type": "execute_result"
    }
   ],
   "source": [
    "# running a linear regression of personal income ~ wages.\n",
    "# if the two datasets are the same, we should expect an R squred value of 1, and correlation of 1\n",
    "y = data[\"Personal Income\"]\n",
    "x = data[\"Wages\"]\n",
    "print(pearsonr(x,y))\n",
    "x_with_cnst = sm.add_constant(x)\n",
    "\n",
    "model = sm.OLS(y, x_with_cnst)\n",
    "results = model.fit()\n",
    "results.summary()"
   ]
  },
  {
   "cell_type": "markdown",
   "metadata": {},
   "source": [
    "Because the correlation and R-squared value of our two csv files: Real Wages and Median Personal Income are both 1, this means that our files are pretty much the exact same. So in our other words, our project has just become: How to predict real wage growth. Going forward, we must not use wages in our regression."
   ]
  },
  {
   "cell_type": "markdown",
   "metadata": {},
   "source": [
    "### Part 3 - Determining The Best Model"
   ]
  },
  {
   "cell_type": "markdown",
   "metadata": {},
   "source": [
    "#### Now that we have all of our relevant variables, lets try to come up with the best model."
   ]
  },
  {
   "cell_type": "code",
   "execution_count": 26,
   "metadata": {},
   "outputs": [],
   "source": [
    "def forward_regression(X, y,\n",
    "                       threshold_in,\n",
    "                       verbose=False):\n",
    "    '''The forward regression function determines the most statistically significant variables in a regression.\n",
    "    X is a dataframe of our independent variables, including a column of constants (1). y is the response variable as\n",
    "    a dataframe. threshold_in is the p_value that we want our variables to be below in order to be included in our model.\n",
    "    Set verbose = True in order to view the step by step of variables added to the model and their respective p-value.\n",
    "    \n",
    "    Forward regression starts off by doing a regression against each individual variable. Then, we keep only the variable\n",
    "    the lowest p-value and discard the rest. Then, we run regressions again with our previous variable and the rest of the\n",
    "    variables, and keep the next variable with the lowest p-value and discard the rest. We keep adding variables until there\n",
    "    are no variables left with a p-value that is below our threshold_in value.'''\n",
    "    \n",
    "    # initilaizing a list that will contain the variables in our model\n",
    "    initial_list = []\n",
    "    included = list(initial_list)\n",
    "    \n",
    "    # we are going to do a new linear regression until we break out of the loop\n",
    "    while True:\n",
    "        \n",
    "        # setting changed = False. If do not add any more variables to our model, then we break out of the loop because of this\n",
    "        changed=False\n",
    "        \n",
    "        # the variables that are NOT already in our model\n",
    "        excluded = list(set(X.columns)-set(included))\n",
    "        \n",
    "        # initializing new_pval list with length equal to the variables not included in our model\n",
    "        new_pval = pd.Series(index=excluded)\n",
    "        \n",
    "        # for each variable not in our model\n",
    "        for column in excluded:\n",
    "            \n",
    "            # running a regression of our included variables + each variable not in our model\n",
    "            model = sm.OLS(y, sm.add_constant(pd.DataFrame(X[included+[column]]))).fit()\n",
    "            # updating our new_pval list. This will only contain the p_values of our excluded variables not already in the model\n",
    "            new_pval[column] = model.pvalues[column]\n",
    "            \n",
    "        # find the lowest pval from our excluded list\n",
    "        best_pval = new_pval.min()\n",
    "        \n",
    "        # if that lowest pval is less than our threshold:\n",
    "        if best_pval < threshold_in:\n",
    "            best_feature = new_pval.idxmin()\n",
    "            # add it to our included list\n",
    "            included.append(best_feature)\n",
    "            \n",
    "            # set changed = True so that we continue the loop\n",
    "            changed=True\n",
    "            \n",
    "            # if verbose is set to true, outputs which variables are added and the p_value\n",
    "            if verbose:\n",
    "                print('Add  {:30} with p-value {:.6}'.format(best_feature, best_pval))\n",
    "\n",
    "        # if we go through this process and we do not find any items that \n",
    "        # have a p_value less than our threshold, changed will be false, and we break out of the loop\n",
    "        if not changed:\n",
    "            break\n",
    "\n",
    "    return included"
   ]
  },
  {
   "cell_type": "code",
   "execution_count": 27,
   "metadata": {},
   "outputs": [],
   "source": [
    "def backward_regression(X, y,\n",
    "                           threshold_out,\n",
    "                           verbose=False):\n",
    "    '''The backward regression function determines the most statistically significant variables in a regression.\n",
    "    X is a dataframe of our independent variables, including a column of constants (1). y is the response variable as\n",
    "    a dataframe. (1 - threshold_out) is the p_value that we want our variables to be below in order to be included in our model.\n",
    "    Set verbose = True in order to view the step by step of variables added to the model and their respective p-value.\n",
    "    \n",
    "    Backward regression starts off with all variables in our model. After doing a regression, the highest p-value is\n",
    "    calculated. If the variable with the highest p-value has a p-value higher than our threshold_out, then we remove it from\n",
    "    from the model. Do this until all variables have p-values below the threshold_out.'''\n",
    "    \n",
    "    # the variables included in our model\n",
    "    included=list(X.columns)\n",
    "    \n",
    "    # run through a loop until we break out\n",
    "    while True:\n",
    "        \n",
    "        # setting changed = False. If do not add any more variables to our model, then we break out of the loop because of this\n",
    "        changed=False\n",
    "        # running a regression of our variables\n",
    "        model = sm.OLS(y, sm.add_constant(pd.DataFrame(X[included]))).fit()\n",
    "        \n",
    "        # use all coefs except intercept\n",
    "        pvalues = model.pvalues.iloc[1:]\n",
    "        worst_pval = pvalues.max() # null if pvalues is empty\n",
    "        \n",
    "        # if the worst_pval is higher than our threshold:\n",
    "        if worst_pval > threshold_out:\n",
    "            \n",
    "            # set changed = true to continue with the loop\n",
    "            changed=True\n",
    "            \n",
    "            # remove the variable from our model\n",
    "            worst_feature = pvalues.idxmax()\n",
    "            included.remove(worst_feature)\n",
    "            \n",
    "            #print verbose if verbose = true\n",
    "            if verbose:\n",
    "                print('Drop {:30} with p-value {:.6}'.format(worst_feature, worst_pval))\n",
    "                \n",
    "        # break out of the loop if no variables are excluded\n",
    "        if not changed:\n",
    "            break\n",
    "    return included"
   ]
  },
  {
   "cell_type": "markdown",
   "metadata": {},
   "source": [
    "Source: https://datascience.stackexchange.com/questions/937/does-scikit-learn-have-forward-selection-stepwise-regression-algorithm"
   ]
  },
  {
   "cell_type": "code",
   "execution_count": 28,
   "metadata": {},
   "outputs": [],
   "source": [
    "# lets calculate our variables to pass into the functions\n",
    "y = data[\"Personal Income\"]\n",
    "x = data.drop(columns = [\"Date\", \"Personal Income\", \"Wages\"])\n",
    "x_with_cnst = sm.add_constant(x)"
   ]
  },
  {
   "cell_type": "code",
   "execution_count": 29,
   "metadata": {},
   "outputs": [
    {
     "name": "stderr",
     "output_type": "stream",
     "text": [
      "/opt/anaconda3/lib/python3.7/site-packages/ipykernel_launcher.py:28: DeprecationWarning: The default dtype for empty Series will be 'object' instead of 'float64' in a future version. Specify a dtype explicitly to silence this warning.\n",
      "/opt/anaconda3/lib/python3.7/site-packages/ipykernel_launcher.py:28: DeprecationWarning: The default dtype for empty Series will be 'object' instead of 'float64' in a future version. Specify a dtype explicitly to silence this warning.\n",
      "/opt/anaconda3/lib/python3.7/site-packages/ipykernel_launcher.py:28: DeprecationWarning: The default dtype for empty Series will be 'object' instead of 'float64' in a future version. Specify a dtype explicitly to silence this warning.\n",
      "/opt/anaconda3/lib/python3.7/site-packages/ipykernel_launcher.py:28: DeprecationWarning: The default dtype for empty Series will be 'object' instead of 'float64' in a future version. Specify a dtype explicitly to silence this warning.\n",
      "/opt/anaconda3/lib/python3.7/site-packages/ipykernel_launcher.py:28: DeprecationWarning: The default dtype for empty Series will be 'object' instead of 'float64' in a future version. Specify a dtype explicitly to silence this warning.\n",
      "/opt/anaconda3/lib/python3.7/site-packages/ipykernel_launcher.py:28: DeprecationWarning: The default dtype for empty Series will be 'object' instead of 'float64' in a future version. Specify a dtype explicitly to silence this warning.\n"
     ]
    },
    {
     "data": {
      "text/plain": [
       "['const',\n",
       " 'Industrial Production',\n",
       " 'Unemployment Rate',\n",
       " '10 Yr Treasury Yield',\n",
       " 'SP500']"
      ]
     },
     "execution_count": 29,
     "metadata": {},
     "output_type": "execute_result"
    }
   ],
   "source": [
    "forward_regression(x_with_cnst, y, threshold_in = 0.05)"
   ]
  },
  {
   "cell_type": "code",
   "execution_count": 30,
   "metadata": {},
   "outputs": [
    {
     "data": {
      "text/plain": [
       "['const',\n",
       " 'High Tax Bracket',\n",
       " 'Unemployment Rate',\n",
       " 'GDP',\n",
       " 'CPI',\n",
       " 'Houses',\n",
       " 'Industrial Production']"
      ]
     },
     "execution_count": 30,
     "metadata": {},
     "output_type": "execute_result"
    }
   ],
   "source": [
    "backward_regression(x_with_cnst, y, threshold_out = 0.05)"
   ]
  },
  {
   "cell_type": "markdown",
   "metadata": {},
   "source": [
    "These two models should include variables that are all statistically significant."
   ]
  },
  {
   "cell_type": "markdown",
   "metadata": {},
   "source": [
    "### Forward Regression Model"
   ]
  },
  {
   "cell_type": "code",
   "execution_count": 31,
   "metadata": {},
   "outputs": [
    {
     "data": {
      "text/html": [
       "<table class=\"simpletable\">\n",
       "<caption>OLS Regression Results</caption>\n",
       "<tr>\n",
       "  <th>Dep. Variable:</th>     <td>Personal Income</td> <th>  R-squared:         </th> <td>   0.962</td>\n",
       "</tr>\n",
       "<tr>\n",
       "  <th>Model:</th>                   <td>OLS</td>       <th>  Adj. R-squared:    </th> <td>   0.959</td>\n",
       "</tr>\n",
       "<tr>\n",
       "  <th>Method:</th>             <td>Least Squares</td>  <th>  F-statistic:       </th> <td>   261.7</td>\n",
       "</tr>\n",
       "<tr>\n",
       "  <th>Date:</th>             <td>Sun, 25 Apr 2021</td> <th>  Prob (F-statistic):</th> <td>1.35e-28</td>\n",
       "</tr>\n",
       "<tr>\n",
       "  <th>Time:</th>                 <td>22:53:18</td>     <th>  Log-Likelihood:    </th> <td> -365.07</td>\n",
       "</tr>\n",
       "<tr>\n",
       "  <th>No. Observations:</th>      <td>    46</td>      <th>  AIC:               </th> <td>   740.1</td>\n",
       "</tr>\n",
       "<tr>\n",
       "  <th>Df Residuals:</th>          <td>    41</td>      <th>  BIC:               </th> <td>   749.3</td>\n",
       "</tr>\n",
       "<tr>\n",
       "  <th>Df Model:</th>              <td>     4</td>      <th>                     </th>     <td> </td>   \n",
       "</tr>\n",
       "<tr>\n",
       "  <th>Covariance Type:</th>      <td>nonrobust</td>    <th>                     </th>     <td> </td>   \n",
       "</tr>\n",
       "</table>\n",
       "<table class=\"simpletable\">\n",
       "<tr>\n",
       "            <td></td>               <th>coef</th>     <th>std err</th>      <th>t</th>      <th>P>|t|</th>  <th>[0.025</th>    <th>0.975]</th>  \n",
       "</tr>\n",
       "<tr>\n",
       "  <th>const</th>                 <td> 2.331e+04</td> <td> 1428.399</td> <td>   16.316</td> <td> 0.000</td> <td> 2.04e+04</td> <td> 2.62e+04</td>\n",
       "</tr>\n",
       "<tr>\n",
       "  <th>Unemployment Rate</th>     <td> -412.4072</td> <td>   75.543</td> <td>   -5.459</td> <td> 0.000</td> <td> -564.969</td> <td> -259.846</td>\n",
       "</tr>\n",
       "<tr>\n",
       "  <th>10 Yr Treasury Yield</th>  <td> -179.1327</td> <td>   70.616</td> <td>   -2.537</td> <td> 0.015</td> <td> -321.745</td> <td>  -36.520</td>\n",
       "</tr>\n",
       "<tr>\n",
       "  <th>SP500</th>                 <td>  -13.2388</td> <td>    6.552</td> <td>   -2.020</td> <td> 0.050</td> <td>  -26.472</td> <td>   -0.006</td>\n",
       "</tr>\n",
       "<tr>\n",
       "  <th>Industrial Production</th> <td>  119.0190</td> <td>   10.703</td> <td>   11.120</td> <td> 0.000</td> <td>   97.404</td> <td>  140.634</td>\n",
       "</tr>\n",
       "</table>\n",
       "<table class=\"simpletable\">\n",
       "<tr>\n",
       "  <th>Omnibus:</th>       <td> 2.128</td> <th>  Durbin-Watson:     </th> <td>   0.829</td>\n",
       "</tr>\n",
       "<tr>\n",
       "  <th>Prob(Omnibus):</th> <td> 0.345</td> <th>  Jarque-Bera (JB):  </th> <td>   1.472</td>\n",
       "</tr>\n",
       "<tr>\n",
       "  <th>Skew:</th>          <td>-0.433</td> <th>  Prob(JB):          </th> <td>   0.479</td>\n",
       "</tr>\n",
       "<tr>\n",
       "  <th>Kurtosis:</th>      <td> 3.140</td> <th>  Cond. No.          </th> <td>1.11e+03</td>\n",
       "</tr>\n",
       "</table><br/><br/>Notes:<br/>[1] Standard Errors assume that the covariance matrix of the errors is correctly specified.<br/>[2] The condition number is large, 1.11e+03. This might indicate that there are<br/>strong multicollinearity or other numerical problems."
      ],
      "text/plain": [
       "<class 'statsmodels.iolib.summary.Summary'>\n",
       "\"\"\"\n",
       "                            OLS Regression Results                            \n",
       "==============================================================================\n",
       "Dep. Variable:        Personal Income   R-squared:                       0.962\n",
       "Model:                            OLS   Adj. R-squared:                  0.959\n",
       "Method:                 Least Squares   F-statistic:                     261.7\n",
       "Date:                Sun, 25 Apr 2021   Prob (F-statistic):           1.35e-28\n",
       "Time:                        22:53:18   Log-Likelihood:                -365.07\n",
       "No. Observations:                  46   AIC:                             740.1\n",
       "Df Residuals:                      41   BIC:                             749.3\n",
       "Df Model:                           4                                         \n",
       "Covariance Type:            nonrobust                                         \n",
       "=========================================================================================\n",
       "                            coef    std err          t      P>|t|      [0.025      0.975]\n",
       "-----------------------------------------------------------------------------------------\n",
       "const                  2.331e+04   1428.399     16.316      0.000    2.04e+04    2.62e+04\n",
       "Unemployment Rate      -412.4072     75.543     -5.459      0.000    -564.969    -259.846\n",
       "10 Yr Treasury Yield   -179.1327     70.616     -2.537      0.015    -321.745     -36.520\n",
       "SP500                   -13.2388      6.552     -2.020      0.050     -26.472      -0.006\n",
       "Industrial Production   119.0190     10.703     11.120      0.000      97.404     140.634\n",
       "==============================================================================\n",
       "Omnibus:                        2.128   Durbin-Watson:                   0.829\n",
       "Prob(Omnibus):                  0.345   Jarque-Bera (JB):                1.472\n",
       "Skew:                          -0.433   Prob(JB):                        0.479\n",
       "Kurtosis:                       3.140   Cond. No.                     1.11e+03\n",
       "==============================================================================\n",
       "\n",
       "Notes:\n",
       "[1] Standard Errors assume that the covariance matrix of the errors is correctly specified.\n",
       "[2] The condition number is large, 1.11e+03. This might indicate that there are\n",
       "strong multicollinearity or other numerical problems.\n",
       "\"\"\""
      ]
     },
     "execution_count": 31,
     "metadata": {},
     "output_type": "execute_result"
    }
   ],
   "source": [
    "y = data[\"Personal Income\"]\n",
    "\n",
    "# we are going to drop all of the variables that are not in our forward model\n",
    "x = data.drop(columns = [\"Date\", \"High Tax Bracket\", \"Low Tax Bracket\", \"Personal Income\", \"Wages\", \"CPI\", \"GDP\", \"Houses\", \"Consumer Expenditures\"])\n",
    "x_with_cnst = sm.add_constant(x)\n",
    "\n",
    "model = sm.OLS(y, x_with_cnst)\n",
    "results = model.fit()\n",
    "results.summary()"
   ]
  },
  {
   "cell_type": "markdown",
   "metadata": {},
   "source": [
    "With the unemployment rate, 10 Yr Treasury Yield, and Industrial Production Index, and the S&P500, we can explain about 96% of the variation in real wages/personal income."
   ]
  },
  {
   "cell_type": "markdown",
   "metadata": {},
   "source": [
    "forward_model = 23310 - 412.4072(unemployment) - 179.1327(10 Yr Treasury) - 13.2388(S&P500) + 119.0190(Industrial Production)"
   ]
  },
  {
   "cell_type": "code",
   "execution_count": 32,
   "metadata": {},
   "outputs": [],
   "source": [
    "# lets plot our model against actual income\n",
    "q = gdp.iloc[:,0]\n",
    "unemployment_rate = data[\"Unemployment Rate\"]\n",
    "yields = data[\"10 Yr Treasury Yield\"]\n",
    "sp_500 = data[\"SP500\"]\n",
    "industrial_production = data[\"Industrial Production\"]\n",
    "\n",
    "# using the coefficients in our model to calculate median incomes\n",
    "t = 23310 - 412.4072*(unemployment_rate) - 179.1327*(yields) - 13.2388*(sp_500) + 119.0190*(industrial_production)"
   ]
  },
  {
   "cell_type": "code",
   "execution_count": 33,
   "metadata": {},
   "outputs": [
    {
     "data": {
      "text/plain": [
       "<matplotlib.legend.Legend at 0x7f7f586a85f8>"
      ]
     },
     "execution_count": 33,
     "metadata": {},
     "output_type": "execute_result"
    },
    {
     "data": {
      "image/png": "[encoded data removed]",
      "text/plain": [
       "<Figure size 432x288 with 1 Axes>"
      ]
     },
     "metadata": {
      "needs_background": "light"
     },
     "output_type": "display_data"
    }
   ],
   "source": [
    "plt.plot(q,t, label = \"Model Implied Personal Income\")\n",
    "plt.plot(q, data[\"Personal Income\"], label = \"Actual Personal Income\")\n",
    "plt.xticks(np.arange(0, len(x)+1, 10))\n",
    "plt.title(\"Forwards Step-Wise Model\")\n",
    "plt.xlabel(\"Date\")\n",
    "plt.ylabel(\"Median Personal Income\")\n",
    "plt.legend()"
   ]
  },
  {
   "cell_type": "markdown",
   "metadata": {},
   "source": [
    "### Backwards Regression Model"
   ]
  },
  {
   "cell_type": "code",
   "execution_count": 34,
   "metadata": {},
   "outputs": [
    {
     "data": {
      "text/html": [
       "<table class=\"simpletable\">\n",
       "<caption>OLS Regression Results</caption>\n",
       "<tr>\n",
       "  <th>Dep. Variable:</th>     <td>Personal Income</td> <th>  R-squared:         </th> <td>   0.972</td>\n",
       "</tr>\n",
       "<tr>\n",
       "  <th>Model:</th>                   <td>OLS</td>       <th>  Adj. R-squared:    </th> <td>   0.968</td>\n",
       "</tr>\n",
       "<tr>\n",
       "  <th>Method:</th>             <td>Least Squares</td>  <th>  F-statistic:       </th> <td>   225.2</td>\n",
       "</tr>\n",
       "<tr>\n",
       "  <th>Date:</th>             <td>Sun, 25 Apr 2021</td> <th>  Prob (F-statistic):</th> <td>1.13e-28</td>\n",
       "</tr>\n",
       "<tr>\n",
       "  <th>Time:</th>                 <td>22:53:19</td>     <th>  Log-Likelihood:    </th> <td> -358.27</td>\n",
       "</tr>\n",
       "<tr>\n",
       "  <th>No. Observations:</th>      <td>    46</td>      <th>  AIC:               </th> <td>   730.5</td>\n",
       "</tr>\n",
       "<tr>\n",
       "  <th>Df Residuals:</th>          <td>    39</td>      <th>  BIC:               </th> <td>   743.3</td>\n",
       "</tr>\n",
       "<tr>\n",
       "  <th>Df Model:</th>              <td>     6</td>      <th>                     </th>     <td> </td>   \n",
       "</tr>\n",
       "<tr>\n",
       "  <th>Covariance Type:</th>      <td>nonrobust</td>    <th>                     </th>     <td> </td>   \n",
       "</tr>\n",
       "</table>\n",
       "<table class=\"simpletable\">\n",
       "<tr>\n",
       "            <td></td>               <th>coef</th>     <th>std err</th>      <th>t</th>      <th>P>|t|</th>  <th>[0.025</th>    <th>0.975]</th>  \n",
       "</tr>\n",
       "<tr>\n",
       "  <th>const</th>                 <td> 2.927e+04</td> <td> 1907.298</td> <td>   15.346</td> <td> 0.000</td> <td> 2.54e+04</td> <td> 3.31e+04</td>\n",
       "</tr>\n",
       "<tr>\n",
       "  <th>High Tax Bracket</th>      <td>  -86.3976</td> <td>   17.676</td> <td>   -4.888</td> <td> 0.000</td> <td> -122.150</td> <td>  -50.645</td>\n",
       "</tr>\n",
       "<tr>\n",
       "  <th>Unemployment Rate</th>     <td> -342.9998</td> <td>   94.499</td> <td>   -3.630</td> <td> 0.001</td> <td> -534.142</td> <td> -151.858</td>\n",
       "</tr>\n",
       "<tr>\n",
       "  <th>GDP</th>                   <td>    1.1485</td> <td>    0.225</td> <td>    5.105</td> <td> 0.000</td> <td>    0.693</td> <td>    1.604</td>\n",
       "</tr>\n",
       "<tr>\n",
       "  <th>CPI</th>                   <td>  -75.5190</td> <td>   18.454</td> <td>   -4.092</td> <td> 0.000</td> <td> -112.846</td> <td>  -38.192</td>\n",
       "</tr>\n",
       "<tr>\n",
       "  <th>Houses</th>                <td>   -0.0375</td> <td>    0.012</td> <td>   -3.230</td> <td> 0.003</td> <td>   -0.061</td> <td>   -0.014</td>\n",
       "</tr>\n",
       "<tr>\n",
       "  <th>Industrial Production</th> <td>  159.7341</td> <td>   23.022</td> <td>    6.938</td> <td> 0.000</td> <td>  113.167</td> <td>  206.301</td>\n",
       "</tr>\n",
       "</table>\n",
       "<table class=\"simpletable\">\n",
       "<tr>\n",
       "  <th>Omnibus:</th>       <td> 0.922</td> <th>  Durbin-Watson:     </th> <td>   1.428</td>\n",
       "</tr>\n",
       "<tr>\n",
       "  <th>Prob(Omnibus):</th> <td> 0.631</td> <th>  Jarque-Bera (JB):  </th> <td>   0.269</td>\n",
       "</tr>\n",
       "<tr>\n",
       "  <th>Skew:</th>          <td>-0.046</td> <th>  Prob(JB):          </th> <td>   0.874</td>\n",
       "</tr>\n",
       "<tr>\n",
       "  <th>Kurtosis:</th>      <td> 3.363</td> <th>  Cond. No.          </th> <td>3.73e+06</td>\n",
       "</tr>\n",
       "</table><br/><br/>Notes:<br/>[1] Standard Errors assume that the covariance matrix of the errors is correctly specified.<br/>[2] The condition number is large, 3.73e+06. This might indicate that there are<br/>strong multicollinearity or other numerical problems."
      ],
      "text/plain": [
       "<class 'statsmodels.iolib.summary.Summary'>\n",
       "\"\"\"\n",
       "                            OLS Regression Results                            \n",
       "==============================================================================\n",
       "Dep. Variable:        Personal Income   R-squared:                       0.972\n",
       "Model:                            OLS   Adj. R-squared:                  0.968\n",
       "Method:                 Least Squares   F-statistic:                     225.2\n",
       "Date:                Sun, 25 Apr 2021   Prob (F-statistic):           1.13e-28\n",
       "Time:                        22:53:19   Log-Likelihood:                -358.27\n",
       "No. Observations:                  46   AIC:                             730.5\n",
       "Df Residuals:                      39   BIC:                             743.3\n",
       "Df Model:                           6                                         \n",
       "Covariance Type:            nonrobust                                         \n",
       "=========================================================================================\n",
       "                            coef    std err          t      P>|t|      [0.025      0.975]\n",
       "-----------------------------------------------------------------------------------------\n",
       "const                  2.927e+04   1907.298     15.346      0.000    2.54e+04    3.31e+04\n",
       "High Tax Bracket        -86.3976     17.676     -4.888      0.000    -122.150     -50.645\n",
       "Unemployment Rate      -342.9998     94.499     -3.630      0.001    -534.142    -151.858\n",
       "GDP                       1.1485      0.225      5.105      0.000       0.693       1.604\n",
       "CPI                     -75.5190     18.454     -4.092      0.000    -112.846     -38.192\n",
       "Houses                   -0.0375      0.012     -3.230      0.003      -0.061      -0.014\n",
       "Industrial Production   159.7341     23.022      6.938      0.000     113.167     206.301\n",
       "==============================================================================\n",
       "Omnibus:                        0.922   Durbin-Watson:                   1.428\n",
       "Prob(Omnibus):                  0.631   Jarque-Bera (JB):                0.269\n",
       "Skew:                          -0.046   Prob(JB):                        0.874\n",
       "Kurtosis:                       3.363   Cond. No.                     3.73e+06\n",
       "==============================================================================\n",
       "\n",
       "Notes:\n",
       "[1] Standard Errors assume that the covariance matrix of the errors is correctly specified.\n",
       "[2] The condition number is large, 3.73e+06. This might indicate that there are\n",
       "strong multicollinearity or other numerical problems.\n",
       "\"\"\""
      ]
     },
     "execution_count": 34,
     "metadata": {},
     "output_type": "execute_result"
    }
   ],
   "source": [
    "y = data[\"Personal Income\"]\n",
    "# dropping all variabels not included in our backward regression model\n",
    "x = data.drop(columns = [\"Date\", \"Low Tax Bracket\", \"Personal Income\", \"Wages\", \"SP500\", \"Consumer Expenditures\", \"10 Yr Treasury Yield\"])\n",
    "x_with_cnst = sm.add_constant(x)\n",
    "\n",
    "model = sm.OLS(y, x_with_cnst)\n",
    "results = model.fit()\n",
    "results.summary()"
   ]
  },
  {
   "cell_type": "markdown",
   "metadata": {},
   "source": [
    "### Plotting Our Model"
   ]
  },
  {
   "cell_type": "markdown",
   "metadata": {},
   "source": [
    "backwards_model = 29270 -86.3976(high_tax_bracket) -342.9998(unemployment_rate) + 1.1485(gdp) -75.5190(cpi) -0.0375(houses) + 159.7341(industrial_production)"
   ]
  },
  {
   "cell_type": "code",
   "execution_count": 35,
   "metadata": {},
   "outputs": [],
   "source": [
    "x = gdp.iloc[:,0]\n",
    "high_tax_bracket = data[\"High Tax Bracket\"]\n",
    "unemployment_rate = data[\"Unemployment Rate\"]\n",
    "gdp = data[\"GDP\"]\n",
    "cpi = data[\"CPI\"]\n",
    "houses = data[\"Houses\"]\n",
    "industrial_production = data[\"Industrial Production\"]\n",
    "# using our model equation to calculate median income\n",
    "y = 29270 -86.3976*(high_tax_bracket) -342.9998*(unemployment_rate) + 1.1485*(gdp) -75.5190*(cpi) -0.0375*(houses) + 159.7341*(industrial_production)"
   ]
  },
  {
   "cell_type": "code",
   "execution_count": 36,
   "metadata": {},
   "outputs": [
    {
     "data": {
      "text/plain": [
       "<matplotlib.legend.Legend at 0x7f7f585a89e8>"
      ]
     },
     "execution_count": 36,
     "metadata": {},
     "output_type": "execute_result"
    },
    {
     "data": {
      "image/png": "[encoded data removed]",
      "text/plain": [
       "<Figure size 432x288 with 1 Axes>"
      ]
     },
     "metadata": {
      "needs_background": "light"
     },
     "output_type": "display_data"
    }
   ],
   "source": [
    "plt.plot(x,y, label = \"Model Implied Personal Income\")\n",
    "plt.plot(x, data[\"Personal Income\"], label = \"Actual Personal Income\")\n",
    "plt.xticks(np.arange(0, len(x)+1, 10))\n",
    "plt.title(\"Backwards Step-Wise Model\")\n",
    "plt.xlabel(\"Date\")\n",
    "plt.ylabel(\"Median Personal Income\")\n",
    "plt.legend()"
   ]
  }
 ],
 "metadata": {
  "kernelspec": {
   "display_name": "Python 3",
   "language": "python",
   "name": "python3"
  },
  "language_info": {
   "codemirror_mode": {
    "name": "ipython",
    "version": 3
   },
   "file_extension": ".py",
   "mimetype": "text/x-python",
   "name": "python",
   "nbconvert_exporter": "python",
   "pygments_lexer": "ipython3",
   "version": "3.7.3"
  }
 },
 "nbformat": 4,
 "nbformat_minor": 4
}
